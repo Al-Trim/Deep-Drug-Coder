{
 "cells": [
  {
   "cell_type": "code",
   "execution_count": 1,
   "metadata": {},
   "outputs": [],
   "source": [
    "import numpy as np\n",
    "import pickle\n",
    "from ddc_pub import ddc_v3 as ddc\n",
    "import molvecgen\n",
    "from rdkit import Chem, DataStructs\n",
    "from rdkit.Chem import Descriptors, rdMolDescriptors, AllChem, QED, rdFMCS, RDKFingerprint\n",
    "from rdkit.Chem.Draw import IPythonConsole\n",
    "from rdkit import rdBase\n",
    "import pandas as pd\n",
    "from ipywidgets import interact\n",
    "\n",
    "\n",
    "class mol_generator:\n",
    "    def __init__(self, seed_smile: str = \"\", sub_smile:str = \"\", model: str = \"\", qsar_model: str = \"\"):\n",
    "        self.mols = []\n",
    "        self.target = []\n",
    "        self.target_names = [\"logp\", \"tpsa\", \"sub_similarity\", \"qed\", \"hba\", \"hbd\"]\n",
    "        self.sani_mols = []\n",
    "        self.sani_properties = []\n",
    "        self.data = None\n",
    "        self.set_seed(seed_smile)\n",
    "        self.set_sub(sub_smile)\n",
    "        self.set_model(model)\n",
    "        self.set_qsar_model(qsar_model)\n",
    "\n",
    "    def set_seed(self, seed_smile):\n",
    "        if(seed_smile == \"\"):\n",
    "            return\n",
    "        #self.seed_smile = seed_smile\n",
    "        self.seed_mol = Chem.MolFromSmiles(seed_smile)\n",
    "\n",
    "        print(\"Seed Molecular:\")\n",
    "        display(self.seed_mol)\n",
    "\n",
    "    def set_sub(self, sub_smile):\n",
    "        if(sub_smile == \"\"):\n",
    "            return\n",
    "        self.sub_mol = Chem.MolFromSmiles(sub_smile)\n",
    "\n",
    "        print(\"Substruct:\")\n",
    "        display(self.sub_mol)\n",
    "\n",
    "    def set_model(self, model):\n",
    "        if(model == \"\"):\n",
    "            return\n",
    "        self.model = ddc.DDC(model_name=model)\n",
    "\n",
    "    def set_qsar_model(self, qsar_model):\n",
    "        if(qsar_model == \"\"):\n",
    "            return\n",
    "        self.qsar_model = pickle.load(open(qsar_model, \"rb\"))[\"classifier_sv\"]\n",
    "\n",
    "    #Calculate the similarity between the aimed substructure and generated mol\n",
    "    def get_sim(self, mol, sub_mol) -> float: \n",
    "        try:\n",
    "            res = rdFMCS.FindMCS([mol, sub_mol], timeout=1, bondCompare=rdFMCS.BondCompare.CompareAny, ringMatchesRingOnly=True, atomCompare=rdFMCS.AtomCompare.CompareAny)\n",
    "            if res.smartsString == \"\" or res.canceled:\n",
    "                return 0\n",
    "            mcs_mol = Chem.MolFromSmarts(res.smartsString)\n",
    "            Chem.SanitizeMol(mcs_mol)\n",
    "\n",
    "            mcs_mol_fp = RDKFingerprint(mcs_mol)\n",
    "            sub_mol_fp = RDKFingerprint(sub_mol)\n",
    "            \n",
    "            sim = DataStructs.FingerprintSimilarity(sub_mol_fp, mcs_mol_fp)\n",
    "\n",
    "            return sim\n",
    "        except Exception as e:\n",
    "            #print(\"...Exception Occurred at {:1}:\".format(Chem.MolToSmiles(mol)))\n",
    "            #print(e)\n",
    "            return 0\n",
    "\n",
    "    def get_descriptors(self, mol):\n",
    "        logp = Descriptors.MolLogP(mol)\n",
    "        tpsa = Descriptors.TPSA(mol)\n",
    "        sim = self.get_sim(mol, self.sub_mol)\n",
    "        hba = rdMolDescriptors.CalcNumHBA(mol)\n",
    "        hbd = rdMolDescriptors.CalcNumHBD(mol)\n",
    "        qed = QED.qed(mol)\n",
    "        \n",
    "        return [logp, tpsa, sim, qed, hba, hbd]\n",
    "\n",
    "    def sanitize(self, mol):  # 检查分子\n",
    "        try:\n",
    "            Chem.SanitizeMol(mol)\n",
    "            return mol\n",
    "        except Exception as e:\n",
    "            pass\n",
    "            #print(e)\n",
    "\n",
    "    # 采样指定性质的分子\n",
    "    def sample(self, sample_times: int = 4, conditions: list = [None]*6):\n",
    "        # 确定目标\n",
    "        #assert len(conditions) >= 7\n",
    "        self.target = self.get_descriptors(self.seed_mol)\n",
    "        for i in range(len(conditions)):\n",
    "            if(conditions[i] != None):\n",
    "                self.target[i] = conditions[i]\n",
    "        self.target = np.array(self.target)\n",
    "        print(\"target:{:}\".format(self.target))\n",
    "        # 采样\n",
    "        smiles_out = []\n",
    "        self.model.batch_input_length = 256  # 太大会减慢速度\n",
    "        for i in range(sample_times):\n",
    "            smiles, _ = self.model.predict_batch(latent=self.target.reshape(1, -1), temp=1.0)\n",
    "            smiles_out.append(smiles)\n",
    "        smiles_out = np.concatenate(smiles_out)\n",
    "        self.mols = [Chem.MolFromSmiles(smi) for smi in smiles_out]\n",
    "        # 检查分子\n",
    "        self.sani_mols.clear()\n",
    "        self.sani_properties.clear()\n",
    "        for mol in self.mols:\n",
    "            sani_mol = self.sanitize(mol)\n",
    "            if sani_mol != None:\n",
    "                self.sani_mols.append(sani_mol)\n",
    "                self.sani_properties.append(self.get_descriptors(sani_mol))\n",
    "        # 打印结果\n",
    "        print(\"生成分子数:{:},有效性:{:}\".format(\n",
    "            len(self.mols), len(self.sani_mols)/len(self.mols)))\n",
    "\n",
    "    def show_data(self, n=5):  # 以表格形式显示生成的分子的属性\n",
    "        self.data = pd.DataFrame(self.sani_properties,\n",
    "                                 columns=self.target_names, copy=True)\n",
    "        display(self.data.head(n))\n",
    "\n",
    "    def plot(self):  # 绘制样品分布\n",
    "        target_dict = {t[0]: t[1] for t in zip(self.target_names, self.target)}\n",
    "        axes = self.data.hist(bins=25, figsize=(8, 6))\n",
    "        for i, ax in enumerate(axes.flatten()):\n",
    "            title = ax.title.__dict__[\"_text\"]\n",
    "            if title:\n",
    "                ax.axvline(x=target_dict[title], color='r',\n",
    "                           linestyle='dashed', linewidth=2)\n",
    "\n",
    "    def showmol(self, i):  # 根据id显示生成的分子\n",
    "        display(self.sani_mols[i])\n",
    "\n",
    "    def interact(self):  # 显示下拉菜单\n",
    "        _ = interact(self.showmol, i=range(len(self.sani_mols)))\n"
   ]
  },
  {
   "cell_type": "code",
   "execution_count": 2,
   "metadata": {},
   "outputs": [
    {
     "name": "stdout",
     "output_type": "stream",
     "text": [
      "Seed Molecular:\n"
     ]
    },
    {
     "data": {
      "image/png": "[encoded data removed]",
      "text/plain": [
       "<rdkit.Chem.rdchem.Mol at 0x25792e7e850>"
      ]
     },
     "metadata": {},
     "output_type": "display_data"
    },
    {
     "name": "stdout",
     "output_type": "stream",
     "text": [
      "Substruct:\n"
     ]
    },
    {
     "data": {
      "image/png": "[encoded data removed]",
      "text/plain": [
       "<rdkit.Chem.rdchem.Mol at 0x257920a84e0>"
      ]
     },
     "metadata": {},
     "output_type": "display_data"
    },
    {
     "name": "stdout",
     "output_type": "stream",
     "text": [
      "Initializing model in test mode.\n",
      "Loading model.\n",
      "'mol_to_latent_model' not found, setting to None.\n",
      "WARNING:tensorflow:No training configuration found in save file: the model was *not* compiled. Compile it manually.\n",
      "WARNING:tensorflow:No training configuration found in save file: the model was *not* compiled. Compile it manually.\n",
      "Loading finished in 4 seconds.\n",
      "Model: \"model\"\n",
      "__________________________________________________________________________________________________\n",
      "Layer (type)                    Output Shape         Param #     Connected to                     \n",
      "==================================================================================================\n",
      "Latent_Input (InputLayer)       [(None, 6)]          0                                            \n",
      "__________________________________________________________________________________________________\n",
      "Decoder_Inputs (InputLayer)     [(None, 142, 35)]    0                                            \n",
      "__________________________________________________________________________________________________\n",
      "latent_to_states_model (Model)  [(None, 512), (None, 33792       Latent_Input[0][0]               \n",
      "__________________________________________________________________________________________________\n",
      "batch_model (Model)             (None, 142, 35)      5350947     Decoder_Inputs[0][0]             \n",
      "                                                                 latent_to_states_model[1][0]     \n",
      "                                                                 latent_to_states_model[1][1]     \n",
      "                                                                 latent_to_states_model[1][2]     \n",
      "                                                                 latent_to_states_model[1][3]     \n",
      "                                                                 latent_to_states_model[1][4]     \n",
      "                                                                 latent_to_states_model[1][5]     \n",
      "==================================================================================================\n",
      "Total params: 5,384,739\n",
      "Trainable params: 5,375,523\n",
      "Non-trainable params: 9,216\n",
      "__________________________________________________________________________________________________\n",
      "None\n",
      "Seed Molecular:\n"
     ]
    },
    {
     "data": {
      "image/png": "[encoded data removed]",
      "text/plain": [
       "<rdkit.Chem.rdchem.Mol at 0x258767865d0>"
      ]
     },
     "metadata": {},
     "output_type": "display_data"
    },
    {
     "name": "stdout",
     "output_type": "stream",
     "text": [
      "Substruct:\n"
     ]
    },
    {
     "data": {
      "image/png": "[encoded data removed]",
      "text/plain": [
       "<rdkit.Chem.rdchem.Mol at 0x258767866c0>"
      ]
     },
     "metadata": {},
     "output_type": "display_data"
    },
    {
     "name": "stdout",
     "output_type": "stream",
     "text": [
      "Initializing model in test mode.\n",
      "Loading model.\n",
      "'mol_to_latent_model' not found, setting to None.\n",
      "WARNING:tensorflow:No training configuration found in save file: the model was *not* compiled. Compile it manually.\n",
      "WARNING:tensorflow:No training configuration found in save file: the model was *not* compiled. Compile it manually.\n",
      "Loading finished in 3 seconds.\n",
      "Model: \"model_1\"\n",
      "__________________________________________________________________________________________________\n",
      "Layer (type)                    Output Shape         Param #     Connected to                     \n",
      "==================================================================================================\n",
      "Latent_Input (InputLayer)       [(None, 6)]          0                                            \n",
      "__________________________________________________________________________________________________\n",
      "Decoder_Inputs (InputLayer)     [(None, 142, 35)]    0                                            \n",
      "__________________________________________________________________________________________________\n",
      "latent_to_states_model (Model)  [(None, 512), (None, 33792       Latent_Input[0][0]               \n",
      "__________________________________________________________________________________________________\n",
      "batch_model (Model)             (None, 142, 35)      5350947     Decoder_Inputs[0][0]             \n",
      "                                                                 latent_to_states_model[1][0]     \n",
      "                                                                 latent_to_states_model[1][1]     \n",
      "                                                                 latent_to_states_model[1][2]     \n",
      "                                                                 latent_to_states_model[1][3]     \n",
      "                                                                 latent_to_states_model[1][4]     \n",
      "                                                                 latent_to_states_model[1][5]     \n",
      "==================================================================================================\n",
      "Total params: 5,384,739\n",
      "Trainable params: 5,375,523\n",
      "Non-trainable params: 9,216\n",
      "__________________________________________________________________________________________________\n",
      "None\n"
     ]
    }
   ],
   "source": [
    "rdBase.DisableLog(\"rdApp.*\")\n",
    "#普通训练\n",
    "generator_1 = mol_generator(\"CC1(C)C(CCC2(C)C1CCC(C34C)(C)C2CC(C)(C4=O)C(C)=C(C(OC)=O)C3=O)=O\", \"O=C(OC)C1=CC(C2=O)CCCC2C1=O\", \"models/model_0811\") \n",
    "\n",
    "#加入从generator_1生成的分子\n",
    "generator_2 = mol_generator(\"CC1(C)C(CCC2(C)C1CCC(C34C)(C)C2CC(C)(C4=O)C(C)=C(C(OC)=O)C3=O)=O\", \"O=C(OC)C1=CC(C2=O)CCCC2C1=O\", \"models/model_0812\") \n"
   ]
  },
  {
   "cell_type": "code",
   "execution_count": 3,
   "metadata": {
    "scrolled": true
   },
   "outputs": [
    {
     "name": "stdout",
     "output_type": "stream",
     "text": [
      "target:[ 4.4719     77.51        1.          0.34974601  5.          0.        ]\n",
      "生成分子数:2048,有效性:0.79345703125\n",
      "target:[ 4.4719     77.51        1.          0.34974601  5.          0.        ]\n",
      "生成分子数:2048,有效性:0.81689453125\n"
     ]
    }
   ],
   "source": [
    "#generator_1.sample(8, conditions=[1.5,30,1]+[None]*4) #这里把采样和生成放在一起了\n",
    "generator_1.sample(8)\n",
    "generator_2.sample(8)\n"
   ]
  },
  {
   "cell_type": "code",
   "execution_count": 4,
   "metadata": {},
   "outputs": [
    {
     "name": "stdout",
     "output_type": "stream",
     "text": [
      "model_0811:\n"
     ]
    },
    {
     "data": {
      "text/html": [
       "<div>\n",
       "<style scoped>\n",
       "    .dataframe tbody tr th:only-of-type {\n",
       "        vertical-align: middle;\n",
       "    }\n",
       "\n",
       "    .dataframe tbody tr th {\n",
       "        vertical-align: top;\n",
       "    }\n",
       "\n",
       "    .dataframe thead th {\n",
       "        text-align: right;\n",
       "    }\n",
       "</style>\n",
       "<table border=\"1\" class=\"dataframe\">\n",
       "  <thead>\n",
       "    <tr style=\"text-align: right;\">\n",
       "      <th></th>\n",
       "      <th>logp</th>\n",
       "      <th>tpsa</th>\n",
       "      <th>sub_similarity</th>\n",
       "      <th>qed</th>\n",
       "      <th>hba</th>\n",
       "      <th>hbd</th>\n",
       "    </tr>\n",
       "  </thead>\n",
       "  <tbody>\n",
       "    <tr>\n",
       "      <td>0</td>\n",
       "      <td>4.1255</td>\n",
       "      <td>77.51</td>\n",
       "      <td>0.204633</td>\n",
       "      <td>0.525657</td>\n",
       "      <td>5</td>\n",
       "      <td>0</td>\n",
       "    </tr>\n",
       "    <tr>\n",
       "      <td>1</td>\n",
       "      <td>4.6702</td>\n",
       "      <td>69.67</td>\n",
       "      <td>0.281853</td>\n",
       "      <td>0.368585</td>\n",
       "      <td>5</td>\n",
       "      <td>0</td>\n",
       "    </tr>\n",
       "    <tr>\n",
       "      <td>2</td>\n",
       "      <td>4.9898</td>\n",
       "      <td>68.28</td>\n",
       "      <td>0.057915</td>\n",
       "      <td>0.404163</td>\n",
       "      <td>4</td>\n",
       "      <td>0</td>\n",
       "    </tr>\n",
       "    <tr>\n",
       "      <td>3</td>\n",
       "      <td>4.3254</td>\n",
       "      <td>69.67</td>\n",
       "      <td>0.102317</td>\n",
       "      <td>0.281024</td>\n",
       "      <td>5</td>\n",
       "      <td>0</td>\n",
       "    </tr>\n",
       "    <tr>\n",
       "      <td>4</td>\n",
       "      <td>4.9246</td>\n",
       "      <td>77.51</td>\n",
       "      <td>0.086873</td>\n",
       "      <td>0.353426</td>\n",
       "      <td>5</td>\n",
       "      <td>0</td>\n",
       "    </tr>\n",
       "  </tbody>\n",
       "</table>\n",
       "</div>"
      ],
      "text/plain": [
       "     logp   tpsa  sub_similarity       qed  hba  hbd\n",
       "0  4.1255  77.51        0.204633  0.525657    5    0\n",
       "1  4.6702  69.67        0.281853  0.368585    5    0\n",
       "2  4.9898  68.28        0.057915  0.404163    4    0\n",
       "3  4.3254  69.67        0.102317  0.281024    5    0\n",
       "4  4.9246  77.51        0.086873  0.353426    5    0"
      ]
     },
     "metadata": {},
     "output_type": "display_data"
    },
    {
     "name": "stdout",
     "output_type": "stream",
     "text": [
      "model_0812:\n"
     ]
    },
    {
     "data": {
      "text/html": [
       "<div>\n",
       "<style scoped>\n",
       "    .dataframe tbody tr th:only-of-type {\n",
       "        vertical-align: middle;\n",
       "    }\n",
       "\n",
       "    .dataframe tbody tr th {\n",
       "        vertical-align: top;\n",
       "    }\n",
       "\n",
       "    .dataframe thead th {\n",
       "        text-align: right;\n",
       "    }\n",
       "</style>\n",
       "<table border=\"1\" class=\"dataframe\">\n",
       "  <thead>\n",
       "    <tr style=\"text-align: right;\">\n",
       "      <th></th>\n",
       "      <th>logp</th>\n",
       "      <th>tpsa</th>\n",
       "      <th>sub_similarity</th>\n",
       "      <th>qed</th>\n",
       "      <th>hba</th>\n",
       "      <th>hbd</th>\n",
       "    </tr>\n",
       "  </thead>\n",
       "  <tbody>\n",
       "    <tr>\n",
       "      <td>0</td>\n",
       "      <td>4.3121</td>\n",
       "      <td>77.51</td>\n",
       "      <td>0.247104</td>\n",
       "      <td>0.361422</td>\n",
       "      <td>5</td>\n",
       "      <td>0</td>\n",
       "    </tr>\n",
       "    <tr>\n",
       "      <td>1</td>\n",
       "      <td>3.6268</td>\n",
       "      <td>86.74</td>\n",
       "      <td>0.067568</td>\n",
       "      <td>0.376079</td>\n",
       "      <td>6</td>\n",
       "      <td>0</td>\n",
       "    </tr>\n",
       "    <tr>\n",
       "      <td>2</td>\n",
       "      <td>4.4515</td>\n",
       "      <td>60.44</td>\n",
       "      <td>0.121622</td>\n",
       "      <td>0.575720</td>\n",
       "      <td>4</td>\n",
       "      <td>0</td>\n",
       "    </tr>\n",
       "    <tr>\n",
       "      <td>3</td>\n",
       "      <td>4.3891</td>\n",
       "      <td>69.67</td>\n",
       "      <td>0.754826</td>\n",
       "      <td>0.431327</td>\n",
       "      <td>5</td>\n",
       "      <td>0</td>\n",
       "    </tr>\n",
       "    <tr>\n",
       "      <td>4</td>\n",
       "      <td>4.6460</td>\n",
       "      <td>80.67</td>\n",
       "      <td>0.054054</td>\n",
       "      <td>0.549065</td>\n",
       "      <td>4</td>\n",
       "      <td>1</td>\n",
       "    </tr>\n",
       "  </tbody>\n",
       "</table>\n",
       "</div>"
      ],
      "text/plain": [
       "     logp   tpsa  sub_similarity       qed  hba  hbd\n",
       "0  4.3121  77.51        0.247104  0.361422    5    0\n",
       "1  3.6268  86.74        0.067568  0.376079    6    0\n",
       "2  4.4515  60.44        0.121622  0.575720    4    0\n",
       "3  4.3891  69.67        0.754826  0.431327    5    0\n",
       "4  4.6460  80.67        0.054054  0.549065    4    1"
      ]
     },
     "metadata": {},
     "output_type": "display_data"
    }
   ],
   "source": [
    "print(\"model_0811:\")\n",
    "generator_1.show_data(5)\n",
    "print(\"model_0812:\")\n",
    "generator_2.show_data(5)\n"
   ]
  },
  {
   "cell_type": "code",
   "execution_count": 5,
   "metadata": {},
   "outputs": [
    {
     "name": "stdout",
     "output_type": "stream",
     "text": [
      "model_0811:\n"
     ]
    },
    {
     "name": "stderr",
     "output_type": "stream",
     "text": [
      "\n",
      "Bad key \"text.kerning_factor\" on line 4 in\n",
      "d:\\Anaconda\\Anaconda3\\envs\\ddc_env\\lib\\site-packages\\matplotlib\\mpl-data\\stylelib\\_classic_test_patch.mplstyle.\n",
      "You probably need to get an updated matplotlibrc file from\n",
      "http://github.com/matplotlib/matplotlib/blob/master/matplotlibrc.template\n",
      "or from the matplotlib source distribution\n"
     ]
    },
    {
     "name": "stdout",
     "output_type": "stream",
     "text": [
      "model_0812:\n"
     ]
    },
    {
     "data": {
      "image/png": "[encoded data removed]",
      "text/plain": [
       "<Figure size 576x432 with 6 Axes>"
      ]
     },
     "metadata": {
      "needs_background": "light"
     },
     "output_type": "display_data"
    },
    {
     "data": {
      "image/png": "[encoded data removed]",
      "text/plain": [
       "<Figure size 576x432 with 6 Axes>"
      ]
     },
     "metadata": {
      "needs_background": "light"
     },
     "output_type": "display_data"
    }
   ],
   "source": [
    "print(\"model_0811:\")\n",
    "generator_1.plot()\n",
    "\n",
    "print(\"model_0812:\")\n",
    "generator_2.plot()"
   ]
  },
  {
   "cell_type": "code",
   "execution_count": 11,
   "metadata": {},
   "outputs": [
    {
     "data": {
      "application/vnd.jupyter.widget-view+json": {
       "model_id": "59d397cb4dcc403397c7ffddd9ea8988",
       "version_major": 2,
       "version_minor": 0
      },
      "text/plain": [
       "interactive(children=(Dropdown(description='i', options=(0, 1, 2, 3, 4, 5, 6, 7, 8, 9, 10, 11, 12, 13, 14, 15,…"
      ]
     },
     "metadata": {},
     "output_type": "display_data"
    }
   ],
   "source": [
    "generator_2.interact()\n"
   ]
  },
  {
   "cell_type": "code",
   "execution_count": 7,
   "metadata": {},
   "outputs": [
    {
     "data": {
      "text/html": [
       "<div>\n",
       "<style scoped>\n",
       "    .dataframe tbody tr th:only-of-type {\n",
       "        vertical-align: middle;\n",
       "    }\n",
       "\n",
       "    .dataframe tbody tr th {\n",
       "        vertical-align: top;\n",
       "    }\n",
       "\n",
       "    .dataframe thead th {\n",
       "        text-align: right;\n",
       "    }\n",
       "</style>\n",
       "<table border=\"1\" class=\"dataframe\">\n",
       "  <thead>\n",
       "    <tr style=\"text-align: right;\">\n",
       "      <th></th>\n",
       "      <th>logp</th>\n",
       "      <th>tpsa</th>\n",
       "      <th>sub_similarity</th>\n",
       "      <th>qed</th>\n",
       "      <th>hba</th>\n",
       "      <th>hbd</th>\n",
       "    </tr>\n",
       "  </thead>\n",
       "  <tbody>\n",
       "    <tr>\n",
       "      <td>1547</td>\n",
       "      <td>4.7242</td>\n",
       "      <td>77.51</td>\n",
       "      <td>0.895753</td>\n",
       "      <td>0.268986</td>\n",
       "      <td>5</td>\n",
       "      <td>0</td>\n",
       "    </tr>\n",
       "    <tr>\n",
       "      <td>1215</td>\n",
       "      <td>4.7022</td>\n",
       "      <td>77.51</td>\n",
       "      <td>0.895753</td>\n",
       "      <td>0.248907</td>\n",
       "      <td>5</td>\n",
       "      <td>0</td>\n",
       "    </tr>\n",
       "    <tr>\n",
       "      <td>1373</td>\n",
       "      <td>4.5581</td>\n",
       "      <td>77.51</td>\n",
       "      <td>0.895753</td>\n",
       "      <td>0.269302</td>\n",
       "      <td>5</td>\n",
       "      <td>0</td>\n",
       "    </tr>\n",
       "    <tr>\n",
       "      <td>365</td>\n",
       "      <td>4.5581</td>\n",
       "      <td>77.51</td>\n",
       "      <td>0.895753</td>\n",
       "      <td>0.275570</td>\n",
       "      <td>5</td>\n",
       "      <td>0</td>\n",
       "    </tr>\n",
       "    <tr>\n",
       "      <td>1317</td>\n",
       "      <td>4.5581</td>\n",
       "      <td>77.51</td>\n",
       "      <td>0.961390</td>\n",
       "      <td>0.285037</td>\n",
       "      <td>5</td>\n",
       "      <td>0</td>\n",
       "    </tr>\n",
       "  </tbody>\n",
       "</table>\n",
       "</div>"
      ],
      "text/plain": [
       "        logp   tpsa  sub_similarity       qed  hba  hbd\n",
       "1547  4.7242  77.51        0.895753  0.268986    5    0\n",
       "1215  4.7022  77.51        0.895753  0.248907    5    0\n",
       "1373  4.5581  77.51        0.895753  0.269302    5    0\n",
       "365   4.5581  77.51        0.895753  0.275570    5    0\n",
       "1317  4.5581  77.51        0.961390  0.285037    5    0"
      ]
     },
     "execution_count": 7,
     "metadata": {},
     "output_type": "execute_result"
    }
   ],
   "source": [
    "generator_1.data.sort_values(\"sub_similarity\").tail(5)"
   ]
  },
  {
   "cell_type": "code",
   "execution_count": 8,
   "metadata": {},
   "outputs": [
    {
     "data": {
      "text/html": [
       "<div>\n",
       "<style scoped>\n",
       "    .dataframe tbody tr th:only-of-type {\n",
       "        vertical-align: middle;\n",
       "    }\n",
       "\n",
       "    .dataframe tbody tr th {\n",
       "        vertical-align: top;\n",
       "    }\n",
       "\n",
       "    .dataframe thead th {\n",
       "        text-align: right;\n",
       "    }\n",
       "</style>\n",
       "<table border=\"1\" class=\"dataframe\">\n",
       "  <thead>\n",
       "    <tr style=\"text-align: right;\">\n",
       "      <th></th>\n",
       "      <th>logp</th>\n",
       "      <th>tpsa</th>\n",
       "      <th>sub_similarity</th>\n",
       "      <th>qed</th>\n",
       "      <th>hba</th>\n",
       "      <th>hbd</th>\n",
       "    </tr>\n",
       "  </thead>\n",
       "  <tbody>\n",
       "    <tr>\n",
       "      <td>1081</td>\n",
       "      <td>4.9482</td>\n",
       "      <td>77.51</td>\n",
       "      <td>0.96139</td>\n",
       "      <td>0.252772</td>\n",
       "      <td>5</td>\n",
       "      <td>0</td>\n",
       "    </tr>\n",
       "    <tr>\n",
       "      <td>1564</td>\n",
       "      <td>3.8682</td>\n",
       "      <td>94.58</td>\n",
       "      <td>0.96139</td>\n",
       "      <td>0.179761</td>\n",
       "      <td>6</td>\n",
       "      <td>0</td>\n",
       "    </tr>\n",
       "    <tr>\n",
       "      <td>1528</td>\n",
       "      <td>4.6160</td>\n",
       "      <td>77.51</td>\n",
       "      <td>1.00000</td>\n",
       "      <td>0.337850</td>\n",
       "      <td>5</td>\n",
       "      <td>0</td>\n",
       "    </tr>\n",
       "    <tr>\n",
       "      <td>1072</td>\n",
       "      <td>4.0324</td>\n",
       "      <td>77.51</td>\n",
       "      <td>1.00000</td>\n",
       "      <td>0.401918</td>\n",
       "      <td>5</td>\n",
       "      <td>0</td>\n",
       "    </tr>\n",
       "    <tr>\n",
       "      <td>78</td>\n",
       "      <td>4.9028</td>\n",
       "      <td>60.44</td>\n",
       "      <td>1.00000</td>\n",
       "      <td>0.356662</td>\n",
       "      <td>4</td>\n",
       "      <td>0</td>\n",
       "    </tr>\n",
       "  </tbody>\n",
       "</table>\n",
       "</div>"
      ],
      "text/plain": [
       "        logp   tpsa  sub_similarity       qed  hba  hbd\n",
       "1081  4.9482  77.51         0.96139  0.252772    5    0\n",
       "1564  3.8682  94.58         0.96139  0.179761    6    0\n",
       "1528  4.6160  77.51         1.00000  0.337850    5    0\n",
       "1072  4.0324  77.51         1.00000  0.401918    5    0\n",
       "78    4.9028  60.44         1.00000  0.356662    4    0"
      ]
     },
     "execution_count": 8,
     "metadata": {},
     "output_type": "execute_result"
    }
   ],
   "source": [
    "generator_2.data.sort_values(\"sub_similarity\").tail(5)"
   ]
  },
  {
   "cell_type": "code",
   "execution_count": 9,
   "metadata": {},
   "outputs": [
    {
     "data": {
      "text/plain": [
       "317"
      ]
     },
     "execution_count": 9,
     "metadata": {},
     "output_type": "execute_result"
    }
   ],
   "source": [
    "import h5py\n",
    "import numpy as np\n",
    "\n",
    "with h5py.File(\"datasets/GENERATED_MOLS_2.h5\", \"r\") as f:\n",
    "    binmols = np.asarray(f['mols'])\n",
    "\n",
    "mols = [Chem.Mol(binmol) for binmol in binmols]\n",
    "len(mols)"
   ]
  },
  {
   "cell_type": "code",
   "execution_count": 13,
   "metadata": {},
   "outputs": [
    {
     "data": {
      "image/png": "[encoded data removed]",
      "text/plain": [
       "<rdkit.Chem.rdchem.Mol at 0x257925181b8>"
      ]
     },
     "metadata": {},
     "output_type": "display_data"
    }
   ],
   "source": [
    "display(mols[5])"
   ]
  },
  {
   "cell_type": "code",
   "execution_count": 15,
   "metadata": {},
   "outputs": [
    {
     "data": {
      "text/plain": [
       "1.1592175456870955"
      ]
     },
     "execution_count": 15,
     "metadata": {},
     "output_type": "execute_result"
    }
   ],
   "source": [
    "from rdkit import Chem\n",
    "from rdkit.Chem import RDConfig\n",
    "import os\n",
    "import sys\n",
    "sys.path.append(os.path.join(RDConfig.RDContribDir, 'SA_Score'))\n",
    "# now you can import sascore!\n",
    "import sascorer\n",
    "mol = Chem.MolFromSmiles('NC(=O)c1ccccc1')\n",
    "s = sascorer.calculateScore(mol)\n",
    "s"
   ]
  }
 ],
 "metadata": {
  "interpreter": {
   "hash": "e78e90599c5fb8f980b5b4db672a9b193d0d2d67500e6742a058ef0e4774177f"
  },
  "kernelspec": {
   "display_name": "Python 3",
   "language": "python",
   "name": "python3"
  },
  "language_info": {
   "codemirror_mode": {
    "name": "ipython",
    "version": 3
   },
   "file_extension": ".py",
   "mimetype": "text/x-python",
   "name": "python",
   "nbconvert_exporter": "python",
   "pygments_lexer": "ipython3",
   "version": "3.6.7"
  }
 },
 "nbformat": 4,
 "nbformat_minor": 4
}
