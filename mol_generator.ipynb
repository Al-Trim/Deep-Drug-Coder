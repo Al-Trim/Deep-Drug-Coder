{
 "cells": [
  {
   "cell_type": "code",
   "execution_count": 1,
   "metadata": {},
   "outputs": [],
   "source": [
    "import numpy as np\n",
    "import pickle\n",
    "from ddc_pub import ddc_v3 as ddc\n",
    "import molvecgen\n",
    "from rdkit import Chem, DataStructs\n",
    "from rdkit.Chem import Descriptors, rdMolDescriptors, AllChem, QED\n",
    "from rdkit.Chem.Draw import IPythonConsole\n",
    "from rdkit import rdBase\n",
    "import pandas as pd\n",
    "from ipywidgets import interact\n",
    "\n",
    "\n",
    "class mol_generator:\n",
    "    def __init__(self, seed_smile: str = \"\", model: str = \"\", qsar_model: str = \"\"):\n",
    "        self.mols = []\n",
    "        self.target = []\n",
    "        self.target_names = [\"logp\", \"tpsa\", \"molwt\",\n",
    "                             \"qed\", \"hba\", \"hbd\", \"active_probability\"]\n",
    "        self.sani_mols = []\n",
    "        self.sani_properties = []\n",
    "        self.data = None\n",
    "        self.set_seed(seed_smile)\n",
    "        self.set_model(model)\n",
    "        self.set_qsar_model(qsar_model)\n",
    "\n",
    "    def set_seed(self, seed_smile):\n",
    "        if(seed_smile == \"\"):\n",
    "            return\n",
    "        self.seed_smile = seed_smile\n",
    "        self.seed_mol = Chem.MolFromSmiles(seed_smile)\n",
    "        \n",
    "        print(\"Seed Molecular:\")\n",
    "        display(self.seed_mol)\n",
    "\n",
    "    def set_model(self, model):\n",
    "        if(model == \"\"):\n",
    "            return\n",
    "        self.model = ddc.DDC(model_name=model)\n",
    "\n",
    "    def set_qsar_model(self, qsar_model):\n",
    "        if(qsar_model == \"\"):\n",
    "            return\n",
    "        self.qsar_model = pickle.load(open(qsar_model, \"rb\"))[\"classifier_sv\"]\n",
    "\n",
    "    def get_descriptors(self, mol):\n",
    "        logp = Descriptors.MolLogP(mol)\n",
    "        tpsa = Descriptors.TPSA(mol)\n",
    "        molwt = Descriptors.ExactMolWt(mol)\n",
    "        hba = rdMolDescriptors.CalcNumHBA(mol)\n",
    "        hbd = rdMolDescriptors.CalcNumHBD(mol)\n",
    "        qed = QED.qed(mol)\n",
    "        # fingerprints\n",
    "        fp = AllChem.GetMorganFingerprintAsBitVect(mol, 2, nBits=2048)\n",
    "        ecfp4 = np.zeros((2048,))\n",
    "        DataStructs.ConvertToNumpyArray(fp, ecfp4)\n",
    "        # 预测活性，选择第二个组件\n",
    "        active_probability = self.qsar_model.predict_proba([ecfp4])[0][1]\n",
    "        return [logp, tpsa, molwt, qed, hba, hbd, active_probability] #+fingerprint\n",
    "\n",
    "    def sanitize(self, mol):  # 检查分子\n",
    "        try:\n",
    "            Chem.SanitizeMol(mol)\n",
    "            return mol\n",
    "        except Exception as e:\n",
    "            print(e)\n",
    "\n",
    "    # 采样指定性质的分子\n",
    "    def sample(self, sample_times: int = 4, conditions: list = [None]*7):\n",
    "        # 确定目标\n",
    "        assert len(conditions) >= 7\n",
    "        self.target = self.get_descriptors(self.seed_mol)\n",
    "        for i in range(len(conditions)):\n",
    "            if(conditions[i] != None):\n",
    "                self.target[i] = conditions[i]\n",
    "        self.target = np.array(self.target)\n",
    "        print(\"target:{:}\".format(self.target))\n",
    "        # 采样\n",
    "        smiles_out = []\n",
    "        self.model.batch_input_length = 256  # 太大会减慢速度\n",
    "        for i in range(sample_times):\n",
    "            smiles, _ = self.model.predict_batch(\n",
    "                latent=self.target.reshape(1, -1), temp=1.0)\n",
    "            smiles_out.append(smiles)\n",
    "        smiles_out = np.concatenate(smiles_out)\n",
    "        self.mols = [Chem.MolFromSmiles(smi) for smi in smiles_out]\n",
    "        # 检查分子\n",
    "        self.sani_mols.clear()\n",
    "        self.sani_properties.clear()\n",
    "        for mol in self.mols:\n",
    "            if(mol != None):\n",
    "                self.sani_mols.append(self.sanitize(mol))\n",
    "        for mol in self.sani_mols:\n",
    "            if(mol != None):\n",
    "                self.sani_properties.append(self.get_descriptors(mol))\n",
    "        # 打印结果\n",
    "        print(\"生成分子数:{:},有效性:{:}\".format(\n",
    "            len(self.mols), len(self.sani_mols)/len(self.mols)))\n",
    "\n",
    "    def show_data(self):  # 以表格形式显示生成的分子的属性\n",
    "        self.data = pd.DataFrame(self.sani_properties,\n",
    "                                 columns=self.target_names)\n",
    "        self.data.head()\n",
    "\n",
    "    def plot(self):  # 绘制样品分布\n",
    "        target_dict = {t[0]: t[1] for t in zip(self.target_names, self.target)}\n",
    "        axes = self.data.hist(bins=25, figsize=(8, 6))\n",
    "        for i, ax in enumerate(axes.flatten()):\n",
    "            title = ax.title.__dict__[\"_text\"]\n",
    "            if title:\n",
    "                ax.axvline(x=target_dict[title], color='r',\n",
    "                           linestyle='dashed', linewidth=2)\n",
    "\n",
    "    def showmol(self, i):  # 根据id显示生成的分子\n",
    "        display(self.sani_mols[i])\n",
    "\n",
    "    def interact(self):  # 显示下拉菜单\n",
    "        _ = interact(self.showmol, i=range(len(self.sani_mols)))\n"
   ]
  },
  {
   "cell_type": "code",
   "execution_count": 2,
   "metadata": {},
   "outputs": [
    {
     "name": "stdout",
     "output_type": "stream",
     "text": [
      "Seed Molecular:\n"
     ]
    },
    {
     "data": {
      "image/png": "[encoded data removed]",
      "text/plain": [
       "<rdkit.Chem.rdchem.Mol at 0x1d267a5ce90>"
      ]
     },
     "metadata": {},
     "output_type": "display_data"
    },
    {
     "name": "stdout",
     "output_type": "stream",
     "text": [
      "Initializing model in test mode.\n",
      "Loading model.\n",
      "'mol_to_latent_model' not found, setting to None.\n",
      "WARNING:tensorflow:No training configuration found in save file: the model was *not* compiled. Compile it manually.\n",
      "WARNING:tensorflow:No training configuration found in save file: the model was *not* compiled. Compile it manually.\n",
      "Loading finished in 7 seconds.\n",
      "Model: \"model\"\n",
      "__________________________________________________________________________________________________\n",
      "Layer (type)                    Output Shape         Param #     Connected to                     \n",
      "==================================================================================================\n",
      "Latent_Input (InputLayer)       [(None, 7)]          0                                            \n",
      "__________________________________________________________________________________________________\n",
      "Decoder_Inputs (InputLayer)     [(None, 142, 35)]    0                                            \n",
      "__________________________________________________________________________________________________\n",
      "latent_to_states_model (Model)  [(None, 512), (None, 36864       Latent_Input[0][0]               \n",
      "__________________________________________________________________________________________________\n",
      "batch_model (Model)             (None, 142, 35)      5350947     Decoder_Inputs[0][0]             \n",
      "                                                                 latent_to_states_model[1][0]     \n",
      "                                                                 latent_to_states_model[1][1]     \n",
      "                                                                 latent_to_states_model[1][2]     \n",
      "                                                                 latent_to_states_model[1][3]     \n",
      "                                                                 latent_to_states_model[1][4]     \n",
      "                                                                 latent_to_states_model[1][5]     \n",
      "==================================================================================================\n",
      "Total params: 5,387,811\n",
      "Trainable params: 5,378,595\n",
      "Non-trainable params: 9,216\n",
      "__________________________________________________________________________________________________\n",
      "None\n"
     ]
    },
    {
     "name": "stderr",
     "output_type": "stream",
     "text": [
      "d:\\Anaconda\\Anaconda3\\envs\\ddc_env\\lib\\site-packages\\sklearn\\base.py:306: UserWarning: Trying to unpickle estimator SVC from version 0.20.2 when using version 0.21.3. This might lead to breaking code or invalid results. Use at your own risk.\n",
      "  UserWarning)\n"
     ]
    }
   ],
   "source": [
    "rdBase.DisableLog(\"rdApp.*\")\n",
    "generator_1 = mol_generator() #创建生成器\n",
    "generator_1.set_seed(\"CN(C)CCCN1C2=CC=CC=C2SC3=C1C=C(C=C3)Cl\") #设置种子\n",
    "generator_1.set_model(\"models/model_0723\") #设置生成模型\n",
    "generator_1.set_qsar_model(\"models/qsar_model.pickle\") #设置QSAR模型\n"
   ]
  },
  {
   "cell_type": "code",
   "execution_count": 3,
   "metadata": {
    "scrolled": true
   },
   "outputs": [
    {
     "name": "stdout",
     "output_type": "stream",
     "text": [
      "target:[  4.8944       6.48       318.09574729   0.79180534   3.\n",
      "   0.           0.99399538]\n"
     ]
    },
    {
     "name": "stderr",
     "output_type": "stream",
     "text": [
      "c:\\Users\\Leave\\OneDrive\\大创\\Deep-Drug-Coder-nightly\\ddc_pub\\ddc_v3.py:1199: RuntimeWarning: divide by zero encountered in log\n",
      "  nextCharProbs = np.log(o) / temp\n",
      "c:\\Users\\Leave\\OneDrive\\大创\\Deep-Drug-Coder-nightly\\ddc_pub\\ddc_v3.py:1199: RuntimeWarning: divide by zero encountered in log\n",
      "  nextCharProbs = np.log(o) / temp\n"
     ]
    },
    {
     "name": "stdout",
     "output_type": "stream",
     "text": [
      "生成分子数:1024,有效性:0.931640625\n"
     ]
    }
   ],
   "source": [
    "#generator_1.sample(8, conditions=[3]+[10]+[None]*5) #这里把采样和生成放在一起了\n",
    "generator_1.sample()\n"
   ]
  },
  {
   "cell_type": "code",
   "execution_count": 4,
   "metadata": {},
   "outputs": [
    {
     "name": "stderr",
     "output_type": "stream",
     "text": [
      "\n",
      "Bad key \"text.kerning_factor\" on line 4 in\n",
      "d:\\Anaconda\\Anaconda3\\envs\\ddc_env\\lib\\site-packages\\matplotlib\\mpl-data\\stylelib\\_classic_test_patch.mplstyle.\n",
      "You probably need to get an updated matplotlibrc file from\n",
      "http://github.com/matplotlib/matplotlib/blob/master/matplotlibrc.template\n",
      "or from the matplotlib source distribution\n"
     ]
    },
    {
     "data": {
      "image/png": "[encoded data removed]",
      "text/plain": [
       "<Figure size 576x432 with 9 Axes>"
      ]
     },
     "metadata": {
      "needs_background": "light"
     },
     "output_type": "display_data"
    }
   ],
   "source": [
    "generator_1.show_data()\n",
    "generator_1.plot()\n"
   ]
  },
  {
   "cell_type": "code",
   "execution_count": 5,
   "metadata": {},
   "outputs": [
    {
     "data": {
      "application/vnd.jupyter.widget-view+json": {
       "model_id": "395dd5357cc3498db4844fdc0fe1da79",
       "version_major": 2,
       "version_minor": 0
      },
      "text/plain": [
       "interactive(children=(Dropdown(description='i', options=(0, 1, 2, 3, 4, 5, 6, 7, 8, 9, 10, 11, 12, 13, 14, 15,…"
      ]
     },
     "metadata": {},
     "output_type": "display_data"
    }
   ],
   "source": [
    "generator_1.interact()\n"
   ]
  },
  {
   "cell_type": "code",
   "execution_count": null,
   "metadata": {},
   "outputs": [],
   "source": []
  }
 ],
 "metadata": {
  "interpreter": {
   "hash": "e78e90599c5fb8f980b5b4db672a9b193d0d2d67500e6742a058ef0e4774177f"
  },
  "kernelspec": {
   "display_name": "Python 3",
   "language": "python",
   "name": "python3"
  },
  "language_info": {
   "codemirror_mode": {
    "name": "ipython",
    "version": 3
   },
   "file_extension": ".py",
   "mimetype": "text/x-python",
   "name": "python",
   "nbconvert_exporter": "python",
   "pygments_lexer": "ipython3",
   "version": "3.6.7"
  }
 },
 "nbformat": 4,
 "nbformat_minor": 4
}
