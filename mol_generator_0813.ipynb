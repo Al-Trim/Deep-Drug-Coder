{
 "cells": [
  {
   "cell_type": "code",
   "execution_count": 1,
   "metadata": {},
   "outputs": [],
   "source": [
    "import numpy as np\n",
    "import pickle\n",
    "from ddc_pub import ddc_v3 as ddc\n",
    "import molvecgen\n",
    "from rdkit import Chem, DataStructs\n",
    "from rdkit.Chem import Descriptors, rdMolDescriptors, AllChem, QED, rdFMCS, RDKFingerprint\n",
    "from rdkit.Chem.Draw import IPythonConsole\n",
    "from rdkit import rdBase\n",
    "import pandas as pd\n",
    "from ipywidgets import interact\n",
    "\n",
    "\n",
    "class mol_generator:\n",
    "    def __init__(self, seed_smile: str = \"\", sub_smile:str = \"\", model: str = \"\", qsar_model: str = \"\"):\n",
    "        self.mols = []\n",
    "        self.target = []\n",
    "        self.target_names = [\"logp\", \"tpsa\", \"sub_similarity\", \"qed\", \"hba\", \"hbd\"]\n",
    "        self.sani_mols = []\n",
    "        self.sani_properties = []\n",
    "        self.data = None\n",
    "        self.set_seed(seed_smile)\n",
    "        self.set_sub(sub_smile)\n",
    "        self.set_model(model)\n",
    "        self.set_qsar_model(qsar_model)\n",
    "\n",
    "    def set_seed(self, seed_smile):\n",
    "        if(seed_smile == \"\"):\n",
    "            return\n",
    "        #self.seed_smile = seed_smile\n",
    "        self.seed_mol = Chem.MolFromSmiles(seed_smile)\n",
    "\n",
    "        print(\"Seed Molecular:\")\n",
    "        display(self.seed_mol)\n",
    "\n",
    "    def set_sub(self, sub_smile):\n",
    "        if(sub_smile == \"\"):\n",
    "            return\n",
    "        self.sub_mol = Chem.MolFromSmiles(sub_smile)\n",
    "\n",
    "        print(\"Substruct:\")\n",
    "        display(self.sub_mol)\n",
    "\n",
    "    def set_model(self, model):\n",
    "        if(model == \"\"):\n",
    "            return\n",
    "        self.model = ddc.DDC(model_name=model)\n",
    "\n",
    "    def set_qsar_model(self, qsar_model):\n",
    "        if(qsar_model == \"\"):\n",
    "            return\n",
    "        self.qsar_model = pickle.load(open(qsar_model, \"rb\"))[\"classifier_sv\"]\n",
    "\n",
    "    #Calculate the similarity between the aimed substructure and generated mol\n",
    "    def get_sim(self, mol, sub_mol) -> float: \n",
    "        try:\n",
    "            res = rdFMCS.FindMCS([mol, sub_mol], timeout=1, bondCompare=rdFMCS.BondCompare.CompareAny, ringMatchesRingOnly=True, atomCompare=rdFMCS.AtomCompare.CompareAny)\n",
    "            if res.smartsString == \"\" or res.canceled:\n",
    "                return 0\n",
    "            mcs_mol = Chem.MolFromSmarts(res.smartsString)\n",
    "            Chem.SanitizeMol(mcs_mol)\n",
    "\n",
    "            mcs_mol_fp = RDKFingerprint(mcs_mol)\n",
    "            sub_mol_fp = RDKFingerprint(sub_mol)\n",
    "            \n",
    "            sim = DataStructs.FingerprintSimilarity(sub_mol_fp, mcs_mol_fp)\n",
    "\n",
    "            return sim\n",
    "        except Exception as e:\n",
    "            #print(\"...Exception Occurred at {:1}:\".format(Chem.MolToSmiles(mol)))\n",
    "            #print(e)\n",
    "            return 0\n",
    "\n",
    "    def get_descriptors(self, mol):\n",
    "        logp = Descriptors.MolLogP(mol)\n",
    "        tpsa = Descriptors.TPSA(mol)\n",
    "        sim = self.get_sim(mol, self.sub_mol)\n",
    "        hba = rdMolDescriptors.CalcNumHBA(mol)\n",
    "        hbd = rdMolDescriptors.CalcNumHBD(mol)\n",
    "        qed = QED.qed(mol)\n",
    "        \n",
    "        return [logp, tpsa, sim, qed, hba, hbd]\n",
    "\n",
    "    def sanitize(self, mol):  # 检查分子\n",
    "        try:\n",
    "            Chem.SanitizeMol(mol)\n",
    "            return mol\n",
    "        except Exception as e:\n",
    "            pass\n",
    "            #print(e)\n",
    "\n",
    "    # 采样指定性质的分子\n",
    "    def sample(self, sample_times: int = 4, conditions: list = [None]*6):\n",
    "        # 确定目标\n",
    "        #assert len(conditions) >= 7\n",
    "        self.target = self.get_descriptors(self.seed_mol)\n",
    "        for i in range(len(conditions)):\n",
    "            if(conditions[i] != None):\n",
    "                self.target[i] = conditions[i]\n",
    "        self.target = np.array(self.target)\n",
    "        print(\"target:{:}\".format(self.target))\n",
    "        # 采样\n",
    "        smiles_out = []\n",
    "        self.model.batch_input_length = 256  # 太大会减慢速度\n",
    "        for i in range(sample_times):\n",
    "            smiles, _ = self.model.predict_batch(latent=self.target.reshape(1, -1), temp=1.0)\n",
    "            smiles_out.append(smiles)\n",
    "        smiles_out = np.concatenate(smiles_out)\n",
    "        self.mols = [Chem.MolFromSmiles(smi) for smi in smiles_out]\n",
    "        # 检查分子\n",
    "        self.sani_mols.clear()\n",
    "        self.sani_properties.clear()\n",
    "        for mol in self.mols:\n",
    "            sani_mol = self.sanitize(mol)\n",
    "            if sani_mol != None:\n",
    "                self.sani_mols.append(sani_mol)\n",
    "                self.sani_properties.append(self.get_descriptors(sani_mol))\n",
    "        # 打印结果\n",
    "        print(\"生成分子数:{:},有效性:{:}\".format(\n",
    "            len(self.mols), len(self.sani_mols)/len(self.mols)))\n",
    "\n",
    "    def show_data(self, n=5):  # 以表格形式显示生成的分子的属性\n",
    "        self.data = pd.DataFrame(self.sani_properties,\n",
    "                                 columns=self.target_names, copy=True)\n",
    "        display(self.data.head(n))\n",
    "\n",
    "    def plot(self):  # 绘制样品分布\n",
    "        target_dict = {t[0]: t[1] for t in zip(self.target_names, self.target)}\n",
    "        axes = self.data.hist(bins=25, figsize=(8, 6))\n",
    "        for i, ax in enumerate(axes.flatten()):\n",
    "            title = ax.title.__dict__[\"_text\"]\n",
    "            if title:\n",
    "                ax.axvline(x=target_dict[title], color='r',\n",
    "                           linestyle='dashed', linewidth=2)\n",
    "\n",
    "    def showmol(self, i):  # 根据id显示生成的分子\n",
    "        display(self.sani_mols[i])\n",
    "\n",
    "    def interact(self):  # 显示下拉菜单\n",
    "        _ = interact(self.showmol, i=range(len(self.sani_mols)))\n"
   ]
  },
  {
   "cell_type": "code",
   "execution_count": 2,
   "metadata": {},
   "outputs": [
    {
     "name": "stdout",
     "output_type": "stream",
     "text": [
      "Seed Molecular:\n"
     ]
    },
    {
     "data": {
      "image/png": "[encoded data removed]",
      "text/plain": [
       "<rdkit.Chem.rdchem.Mol at 0x1d233061e40>"
      ]
     },
     "metadata": {},
     "output_type": "display_data"
    },
    {
     "name": "stdout",
     "output_type": "stream",
     "text": [
      "Substruct:\n"
     ]
    },
    {
     "data": {
      "image/png": "[encoded data removed]",
      "text/plain": [
       "<rdkit.Chem.rdchem.Mol at 0x1d233e3b300>"
      ]
     },
     "metadata": {},
     "output_type": "display_data"
    },
    {
     "name": "stdout",
     "output_type": "stream",
     "text": [
      "Initializing model in test mode.\n",
      "Loading model.\n",
      "'mol_to_latent_model' not found, setting to None.\n",
      "WARNING:tensorflow:No training configuration found in save file: the model was *not* compiled. Compile it manually.\n",
      "WARNING:tensorflow:No training configuration found in save file: the model was *not* compiled. Compile it manually.\n",
      "Loading finished in 4 seconds.\n",
      "Model: \"model\"\n",
      "__________________________________________________________________________________________________\n",
      "Layer (type)                    Output Shape         Param #     Connected to                     \n",
      "==================================================================================================\n",
      "Latent_Input (InputLayer)       [(None, 6)]          0                                            \n",
      "__________________________________________________________________________________________________\n",
      "Decoder_Inputs (InputLayer)     [(None, 142, 35)]    0                                            \n",
      "__________________________________________________________________________________________________\n",
      "latent_to_states_model (Model)  [(None, 512), (None, 33792       Latent_Input[0][0]               \n",
      "__________________________________________________________________________________________________\n",
      "batch_model (Model)             (None, 142, 35)      5350947     Decoder_Inputs[0][0]             \n",
      "                                                                 latent_to_states_model[1][0]     \n",
      "                                                                 latent_to_states_model[1][1]     \n",
      "                                                                 latent_to_states_model[1][2]     \n",
      "                                                                 latent_to_states_model[1][3]     \n",
      "                                                                 latent_to_states_model[1][4]     \n",
      "                                                                 latent_to_states_model[1][5]     \n",
      "==================================================================================================\n",
      "Total params: 5,384,739\n",
      "Trainable params: 5,375,523\n",
      "Non-trainable params: 9,216\n",
      "__________________________________________________________________________________________________\n",
      "None\n",
      "Seed Molecular:\n"
     ]
    },
    {
     "data": {
      "image/png": "[encoded data removed]",
      "text/plain": [
       "<rdkit.Chem.rdchem.Mol at 0x1d2f77c9670>"
      ]
     },
     "metadata": {},
     "output_type": "display_data"
    },
    {
     "name": "stdout",
     "output_type": "stream",
     "text": [
      "Substruct:\n"
     ]
    },
    {
     "data": {
      "image/png": "[encoded data removed]",
      "text/plain": [
       "<rdkit.Chem.rdchem.Mol at 0x1d2f77c9760>"
      ]
     },
     "metadata": {},
     "output_type": "display_data"
    },
    {
     "name": "stdout",
     "output_type": "stream",
     "text": [
      "Initializing model in test mode.\n",
      "Loading model.\n",
      "'mol_to_latent_model' not found, setting to None.\n",
      "WARNING:tensorflow:No training configuration found in save file: the model was *not* compiled. Compile it manually.\n",
      "WARNING:tensorflow:No training configuration found in save file: the model was *not* compiled. Compile it manually.\n",
      "Loading finished in 3 seconds.\n",
      "Model: \"model_1\"\n",
      "__________________________________________________________________________________________________\n",
      "Layer (type)                    Output Shape         Param #     Connected to                     \n",
      "==================================================================================================\n",
      "Latent_Input (InputLayer)       [(None, 6)]          0                                            \n",
      "__________________________________________________________________________________________________\n",
      "Decoder_Inputs (InputLayer)     [(None, 142, 35)]    0                                            \n",
      "__________________________________________________________________________________________________\n",
      "latent_to_states_model (Model)  [(None, 512), (None, 33792       Latent_Input[0][0]               \n",
      "__________________________________________________________________________________________________\n",
      "batch_model (Model)             (None, 142, 35)      5350947     Decoder_Inputs[0][0]             \n",
      "                                                                 latent_to_states_model[1][0]     \n",
      "                                                                 latent_to_states_model[1][1]     \n",
      "                                                                 latent_to_states_model[1][2]     \n",
      "                                                                 latent_to_states_model[1][3]     \n",
      "                                                                 latent_to_states_model[1][4]     \n",
      "                                                                 latent_to_states_model[1][5]     \n",
      "==================================================================================================\n",
      "Total params: 5,384,739\n",
      "Trainable params: 5,375,523\n",
      "Non-trainable params: 9,216\n",
      "__________________________________________________________________________________________________\n",
      "None\n",
      "Seed Molecular:\n"
     ]
    },
    {
     "data": {
      "image/png": "[encoded data removed]",
      "text/plain": [
       "<rdkit.Chem.rdchem.Mol at 0x1d2f9469210>"
      ]
     },
     "metadata": {},
     "output_type": "display_data"
    },
    {
     "name": "stdout",
     "output_type": "stream",
     "text": [
      "Substruct:\n"
     ]
    },
    {
     "data": {
      "image/png": "[encoded data removed]",
      "text/plain": [
       "<rdkit.Chem.rdchem.Mol at 0x1d2f9469260>"
      ]
     },
     "metadata": {},
     "output_type": "display_data"
    },
    {
     "name": "stdout",
     "output_type": "stream",
     "text": [
      "Initializing model in test mode.\n",
      "Loading model.\n",
      "'mol_to_latent_model' not found, setting to None.\n",
      "WARNING:tensorflow:No training configuration found in save file: the model was *not* compiled. Compile it manually.\n",
      "WARNING:tensorflow:No training configuration found in save file: the model was *not* compiled. Compile it manually.\n",
      "Loading finished in 3 seconds.\n",
      "Model: \"model_2\"\n",
      "__________________________________________________________________________________________________\n",
      "Layer (type)                    Output Shape         Param #     Connected to                     \n",
      "==================================================================================================\n",
      "Latent_Input (InputLayer)       [(None, 6)]          0                                            \n",
      "__________________________________________________________________________________________________\n",
      "Decoder_Inputs (InputLayer)     [(None, 142, 35)]    0                                            \n",
      "__________________________________________________________________________________________________\n",
      "latent_to_states_model (Model)  [(None, 512), (None, 33792       Latent_Input[0][0]               \n",
      "__________________________________________________________________________________________________\n",
      "batch_model (Model)             (None, 142, 35)      5350947     Decoder_Inputs[0][0]             \n",
      "                                                                 latent_to_states_model[1][0]     \n",
      "                                                                 latent_to_states_model[1][1]     \n",
      "                                                                 latent_to_states_model[1][2]     \n",
      "                                                                 latent_to_states_model[1][3]     \n",
      "                                                                 latent_to_states_model[1][4]     \n",
      "                                                                 latent_to_states_model[1][5]     \n",
      "==================================================================================================\n",
      "Total params: 5,384,739\n",
      "Trainable params: 5,375,523\n",
      "Non-trainable params: 9,216\n",
      "__________________________________________________________________________________________________\n",
      "None\n"
     ]
    }
   ],
   "source": [
    "rdBase.DisableLog(\"rdApp.*\")\n",
    "#retrain后的model_0812\n",
    "generators = [mol_generator(\"CC1(C)C(CCC2(C)C1CCC(C34C)(C)C2CC(C)(C4=O)C(C)=C(C(OC)=O)C3=O)=O\", \n",
    "\"O=C(OC)C1=CC(C2=O)CCCC2C1=O\", \n",
    "\"models/model_0812_retrain_{}\".format(i)) for i in range(3)]\n",
    "\n",
    "\n"
   ]
  },
  {
   "cell_type": "code",
   "execution_count": 3,
   "metadata": {
    "scrolled": true
   },
   "outputs": [
    {
     "name": "stdout",
     "output_type": "stream",
     "text": [
      "target:[ 4.4719     77.51        1.          0.34974601  5.          0.        ]\n",
      "生成分子数:2048,有效性:0.9111328125\n",
      "target:[ 4.4719     77.51        1.          0.34974601  5.          0.        ]\n",
      "生成分子数:2048,有效性:0.916015625\n",
      "target:[ 4.4719     77.51        1.          0.34974601  5.          0.        ]\n",
      "生成分子数:2048,有效性:0.9384765625\n"
     ]
    }
   ],
   "source": [
    "#generator_1.sample(8, conditions=[1.5,30,1]+[None]*4) #这里把采样和生成放在一起了\n",
    "for i in range(3):\n",
    "    generators[i].sample(8)\n"
   ]
  },
  {
   "cell_type": "code",
   "execution_count": 4,
   "metadata": {},
   "outputs": [
    {
     "name": "stderr",
     "output_type": "stream",
     "text": [
      "ERROR:root:Internal Python error in the inspect module.\n",
      "Below is the traceback from this internal error.\n",
      "\n",
      "ERROR:root:Internal Python error in the inspect module.\n",
      "Below is the traceback from this internal error.\n",
      "\n",
      "ERROR:root:Internal Python error in the inspect module.\n",
      "Below is the traceback from this internal error.\n",
      "\n"
     ]
    },
    {
     "name": "stdout",
     "output_type": "stream",
     "text": [
      "model_0812_retrain_0:\n",
      "Traceback (most recent call last):\n",
      "  File \"d:\\Anaconda\\Anaconda3\\envs\\ddc_env\\lib\\site-packages\\IPython\\core\\interactiveshell.py\", line 3343, in run_code\n",
      "    exec(code_obj, self.user_global_ns, self.user_ns)\n",
      "  File \"<ipython-input-4-3a7270a0a3b3>\", line 3, in <module>\n",
      "    with generators[i] as g:\n",
      "AttributeError: __enter__\n",
      "\n",
      "During handling of the above exception, another exception occurred:\n",
      "\n",
      "Traceback (most recent call last):\n",
      "  File \"d:\\Anaconda\\Anaconda3\\envs\\ddc_env\\lib\\site-packages\\IPython\\core\\interactiveshell.py\", line 2044, in showtraceback\n",
      "    stb = value._render_traceback_()\n",
      "AttributeError: 'AttributeError' object has no attribute '_render_traceback_'\n",
      "\n",
      "During handling of the above exception, another exception occurred:\n",
      "\n",
      "Traceback (most recent call last):\n",
      "  File \"d:\\Anaconda\\Anaconda3\\envs\\ddc_env\\lib\\site-packages\\IPython\\core\\ultratb.py\", line 1169, in get_records\n",
      "    return _fixed_getinnerframes(etb, number_of_lines_of_context, tb_offset)\n",
      "  File \"d:\\Anaconda\\Anaconda3\\envs\\ddc_env\\lib\\site-packages\\IPython\\core\\ultratb.py\", line 316, in wrapped\n",
      "    return f(*args, **kwargs)\n",
      "  File \"d:\\Anaconda\\Anaconda3\\envs\\ddc_env\\lib\\site-packages\\IPython\\core\\ultratb.py\", line 350, in _fixed_getinnerframes\n",
      "    records = fix_frame_records_filenames(inspect.getinnerframes(etb, context))\n",
      "  File \"d:\\Anaconda\\Anaconda3\\envs\\ddc_env\\lib\\inspect.py\", line 1488, in getinnerframes\n",
      "    frameinfo = (tb.tb_frame,) + getframeinfo(tb, context)\n",
      "  File \"d:\\Anaconda\\Anaconda3\\envs\\ddc_env\\lib\\inspect.py\", line 1446, in getframeinfo\n",
      "    filename = getsourcefile(frame) or getfile(frame)\n",
      "  File \"d:\\Anaconda\\Anaconda3\\envs\\ddc_env\\lib\\inspect.py\", line 696, in getsourcefile\n",
      "    if getattr(getmodule(object, filename), '__loader__', None) is not None:\n",
      "  File \"d:\\Anaconda\\Anaconda3\\envs\\ddc_env\\lib\\inspect.py\", line 733, in getmodule\n",
      "    if ismodule(module) and hasattr(module, '__file__'):\n",
      "  File \"d:\\Anaconda\\Anaconda3\\envs\\ddc_env\\lib\\site-packages\\tensorflow\\__init__.py\", line 50, in __getattr__\n",
      "    module = self._load()\n",
      "  File \"d:\\Anaconda\\Anaconda3\\envs\\ddc_env\\lib\\site-packages\\tensorflow\\__init__.py\", line 44, in _load\n",
      "    module = _importlib.import_module(self.__name__)\n",
      "  File \"d:\\Anaconda\\Anaconda3\\envs\\ddc_env\\lib\\importlib\\__init__.py\", line 126, in import_module\n",
      "    return _bootstrap._gcd_import(name[level:], package, level)\n",
      "  File \"<frozen importlib._bootstrap>\", line 994, in _gcd_import\n",
      "  File \"<frozen importlib._bootstrap>\", line 971, in _find_and_load\n",
      "  File \"<frozen importlib._bootstrap>\", line 953, in _find_and_load_unlocked\n",
      "ModuleNotFoundError: No module named 'tensorflow_core.estimator'\n",
      "Traceback (most recent call last):\n",
      "  File \"d:\\Anaconda\\Anaconda3\\envs\\ddc_env\\lib\\site-packages\\IPython\\core\\interactiveshell.py\", line 3343, in run_code\n",
      "    exec(code_obj, self.user_global_ns, self.user_ns)\n",
      "  File \"<ipython-input-4-3a7270a0a3b3>\", line 3, in <module>\n",
      "    with generators[i] as g:\n",
      "AttributeError: __enter__\n",
      "\n",
      "During handling of the above exception, another exception occurred:\n",
      "\n",
      "Traceback (most recent call last):\n",
      "  File \"d:\\Anaconda\\Anaconda3\\envs\\ddc_env\\lib\\site-packages\\IPython\\core\\interactiveshell.py\", line 2044, in showtraceback\n",
      "    stb = value._render_traceback_()\n",
      "AttributeError: 'AttributeError' object has no attribute '_render_traceback_'\n",
      "\n",
      "During handling of the above exception, another exception occurred:\n",
      "\n",
      "Traceback (most recent call last):\n",
      "  File \"d:\\Anaconda\\Anaconda3\\envs\\ddc_env\\lib\\site-packages\\IPython\\core\\interactiveshell.py\", line 3263, in run_ast_nodes\n",
      "    if (await self.run_code(code, result,  async_=asy)):\n",
      "  File \"d:\\Anaconda\\Anaconda3\\envs\\ddc_env\\lib\\site-packages\\IPython\\core\\interactiveshell.py\", line 3360, in run_code\n",
      "    self.showtraceback(running_compiled_code=True)\n",
      "  File \"d:\\Anaconda\\Anaconda3\\envs\\ddc_env\\lib\\site-packages\\IPython\\core\\interactiveshell.py\", line 2047, in showtraceback\n",
      "    value, tb, tb_offset=tb_offset)\n",
      "  File \"d:\\Anaconda\\Anaconda3\\envs\\ddc_env\\lib\\site-packages\\IPython\\core\\ultratb.py\", line 1436, in structured_traceback\n",
      "    self, etype, value, tb, tb_offset, number_of_lines_of_context)\n",
      "  File \"d:\\Anaconda\\Anaconda3\\envs\\ddc_env\\lib\\site-packages\\IPython\\core\\ultratb.py\", line 1336, in structured_traceback\n",
      "    self, etype, value, tb, tb_offset, number_of_lines_of_context\n",
      "  File \"d:\\Anaconda\\Anaconda3\\envs\\ddc_env\\lib\\site-packages\\IPython\\core\\ultratb.py\", line 1193, in structured_traceback\n",
      "    tb_offset)\n",
      "  File \"d:\\Anaconda\\Anaconda3\\envs\\ddc_env\\lib\\site-packages\\IPython\\core\\ultratb.py\", line 1150, in format_exception_as_a_whole\n",
      "    last_unique, recursion_repeat = find_recursion(orig_etype, evalue, records)\n",
      "  File \"d:\\Anaconda\\Anaconda3\\envs\\ddc_env\\lib\\site-packages\\IPython\\core\\ultratb.py\", line 451, in find_recursion\n",
      "    return len(records), 0\n",
      "TypeError: object of type 'NoneType' has no len()\n",
      "\n",
      "During handling of the above exception, another exception occurred:\n",
      "\n",
      "Traceback (most recent call last):\n",
      "  File \"d:\\Anaconda\\Anaconda3\\envs\\ddc_env\\lib\\site-packages\\IPython\\core\\interactiveshell.py\", line 2044, in showtraceback\n",
      "    stb = value._render_traceback_()\n",
      "AttributeError: 'TypeError' object has no attribute '_render_traceback_'\n",
      "\n",
      "During handling of the above exception, another exception occurred:\n",
      "\n",
      "Traceback (most recent call last):\n",
      "  File \"d:\\Anaconda\\Anaconda3\\envs\\ddc_env\\lib\\site-packages\\IPython\\core\\ultratb.py\", line 1169, in get_records\n",
      "    return _fixed_getinnerframes(etb, number_of_lines_of_context, tb_offset)\n",
      "  File \"d:\\Anaconda\\Anaconda3\\envs\\ddc_env\\lib\\site-packages\\IPython\\core\\ultratb.py\", line 316, in wrapped\n",
      "    return f(*args, **kwargs)\n",
      "  File \"d:\\Anaconda\\Anaconda3\\envs\\ddc_env\\lib\\site-packages\\IPython\\core\\ultratb.py\", line 350, in _fixed_getinnerframes\n",
      "    records = fix_frame_records_filenames(inspect.getinnerframes(etb, context))\n",
      "  File \"d:\\Anaconda\\Anaconda3\\envs\\ddc_env\\lib\\inspect.py\", line 1488, in getinnerframes\n",
      "    frameinfo = (tb.tb_frame,) + getframeinfo(tb, context)\n",
      "  File \"d:\\Anaconda\\Anaconda3\\envs\\ddc_env\\lib\\inspect.py\", line 1446, in getframeinfo\n",
      "    filename = getsourcefile(frame) or getfile(frame)\n",
      "  File \"d:\\Anaconda\\Anaconda3\\envs\\ddc_env\\lib\\inspect.py\", line 696, in getsourcefile\n",
      "    if getattr(getmodule(object, filename), '__loader__', None) is not None:\n",
      "  File \"d:\\Anaconda\\Anaconda3\\envs\\ddc_env\\lib\\inspect.py\", line 733, in getmodule\n",
      "    if ismodule(module) and hasattr(module, '__file__'):\n",
      "  File \"d:\\Anaconda\\Anaconda3\\envs\\ddc_env\\lib\\site-packages\\tensorflow\\__init__.py\", line 50, in __getattr__\n",
      "    module = self._load()\n",
      "  File \"d:\\Anaconda\\Anaconda3\\envs\\ddc_env\\lib\\site-packages\\tensorflow\\__init__.py\", line 44, in _load\n",
      "    module = _importlib.import_module(self.__name__)\n",
      "  File \"d:\\Anaconda\\Anaconda3\\envs\\ddc_env\\lib\\importlib\\__init__.py\", line 126, in import_module\n",
      "    return _bootstrap._gcd_import(name[level:], package, level)\n",
      "  File \"<frozen importlib._bootstrap>\", line 994, in _gcd_import\n",
      "  File \"<frozen importlib._bootstrap>\", line 971, in _find_and_load\n",
      "  File \"<frozen importlib._bootstrap>\", line 953, in _find_and_load_unlocked\n",
      "ModuleNotFoundError: No module named 'tensorflow_core.estimator'\n",
      "Traceback (most recent call last):\n",
      "  File \"d:\\Anaconda\\Anaconda3\\envs\\ddc_env\\lib\\site-packages\\IPython\\core\\interactiveshell.py\", line 3343, in run_code\n",
      "    exec(code_obj, self.user_global_ns, self.user_ns)\n",
      "  File \"<ipython-input-4-3a7270a0a3b3>\", line 3, in <module>\n",
      "    with generators[i] as g:\n",
      "AttributeError: __enter__\n",
      "\n",
      "During handling of the above exception, another exception occurred:\n",
      "\n",
      "Traceback (most recent call last):\n",
      "  File \"d:\\Anaconda\\Anaconda3\\envs\\ddc_env\\lib\\site-packages\\IPython\\core\\interactiveshell.py\", line 2044, in showtraceback\n",
      "    stb = value._render_traceback_()\n",
      "AttributeError: 'AttributeError' object has no attribute '_render_traceback_'\n",
      "\n",
      "During handling of the above exception, another exception occurred:\n",
      "\n",
      "Traceback (most recent call last):\n",
      "  File \"d:\\Anaconda\\Anaconda3\\envs\\ddc_env\\lib\\site-packages\\IPython\\core\\interactiveshell.py\", line 3263, in run_ast_nodes\n",
      "    if (await self.run_code(code, result,  async_=asy)):\n",
      "  File \"d:\\Anaconda\\Anaconda3\\envs\\ddc_env\\lib\\site-packages\\IPython\\core\\interactiveshell.py\", line 3360, in run_code\n",
      "    self.showtraceback(running_compiled_code=True)\n",
      "  File \"d:\\Anaconda\\Anaconda3\\envs\\ddc_env\\lib\\site-packages\\IPython\\core\\interactiveshell.py\", line 2047, in showtraceback\n",
      "    value, tb, tb_offset=tb_offset)\n",
      "  File \"d:\\Anaconda\\Anaconda3\\envs\\ddc_env\\lib\\site-packages\\IPython\\core\\ultratb.py\", line 1436, in structured_traceback\n",
      "    self, etype, value, tb, tb_offset, number_of_lines_of_context)\n",
      "  File \"d:\\Anaconda\\Anaconda3\\envs\\ddc_env\\lib\\site-packages\\IPython\\core\\ultratb.py\", line 1336, in structured_traceback\n",
      "    self, etype, value, tb, tb_offset, number_of_lines_of_context\n",
      "  File \"d:\\Anaconda\\Anaconda3\\envs\\ddc_env\\lib\\site-packages\\IPython\\core\\ultratb.py\", line 1193, in structured_traceback\n",
      "    tb_offset)\n",
      "  File \"d:\\Anaconda\\Anaconda3\\envs\\ddc_env\\lib\\site-packages\\IPython\\core\\ultratb.py\", line 1150, in format_exception_as_a_whole\n",
      "    last_unique, recursion_repeat = find_recursion(orig_etype, evalue, records)\n",
      "  File \"d:\\Anaconda\\Anaconda3\\envs\\ddc_env\\lib\\site-packages\\IPython\\core\\ultratb.py\", line 451, in find_recursion\n",
      "    return len(records), 0\n",
      "TypeError: object of type 'NoneType' has no len()\n",
      "\n",
      "During handling of the above exception, another exception occurred:\n",
      "\n",
      "Traceback (most recent call last):\n",
      "  File \"d:\\Anaconda\\Anaconda3\\envs\\ddc_env\\lib\\site-packages\\IPython\\core\\interactiveshell.py\", line 2044, in showtraceback\n",
      "    stb = value._render_traceback_()\n",
      "AttributeError: 'TypeError' object has no attribute '_render_traceback_'\n",
      "\n",
      "During handling of the above exception, another exception occurred:\n",
      "\n",
      "Traceback (most recent call last):\n",
      "  File \"d:\\Anaconda\\Anaconda3\\envs\\ddc_env\\lib\\site-packages\\IPython\\core\\interactiveshell.py\", line 2895, in _run_cell\n",
      "    return runner(coro)\n",
      "  File \"d:\\Anaconda\\Anaconda3\\envs\\ddc_env\\lib\\site-packages\\IPython\\core\\async_helpers.py\", line 68, in _pseudo_sync_runner\n",
      "    coro.send(None)\n",
      "  File \"d:\\Anaconda\\Anaconda3\\envs\\ddc_env\\lib\\site-packages\\IPython\\core\\interactiveshell.py\", line 3072, in run_cell_async\n",
      "    interactivity=interactivity, compiler=compiler, result=result)\n",
      "  File \"d:\\Anaconda\\Anaconda3\\envs\\ddc_env\\lib\\site-packages\\IPython\\core\\interactiveshell.py\", line 3282, in run_ast_nodes\n",
      "    self.showtraceback()\n",
      "  File \"d:\\Anaconda\\Anaconda3\\envs\\ddc_env\\lib\\site-packages\\IPython\\core\\interactiveshell.py\", line 2047, in showtraceback\n",
      "    value, tb, tb_offset=tb_offset)\n",
      "  File \"d:\\Anaconda\\Anaconda3\\envs\\ddc_env\\lib\\site-packages\\IPython\\core\\ultratb.py\", line 1436, in structured_traceback\n",
      "    self, etype, value, tb, tb_offset, number_of_lines_of_context)\n",
      "  File \"d:\\Anaconda\\Anaconda3\\envs\\ddc_env\\lib\\site-packages\\IPython\\core\\ultratb.py\", line 1336, in structured_traceback\n",
      "    self, etype, value, tb, tb_offset, number_of_lines_of_context\n",
      "  File \"d:\\Anaconda\\Anaconda3\\envs\\ddc_env\\lib\\site-packages\\IPython\\core\\ultratb.py\", line 1211, in structured_traceback\n",
      "    chained_exceptions_tb_offset)\n",
      "  File \"d:\\Anaconda\\Anaconda3\\envs\\ddc_env\\lib\\site-packages\\IPython\\core\\ultratb.py\", line 1150, in format_exception_as_a_whole\n",
      "    last_unique, recursion_repeat = find_recursion(orig_etype, evalue, records)\n",
      "  File \"d:\\Anaconda\\Anaconda3\\envs\\ddc_env\\lib\\site-packages\\IPython\\core\\ultratb.py\", line 451, in find_recursion\n",
      "    return len(records), 0\n",
      "TypeError: object of type 'NoneType' has no len()\n",
      "\n",
      "During handling of the above exception, another exception occurred:\n",
      "\n",
      "Traceback (most recent call last):\n",
      "  File \"d:\\Anaconda\\Anaconda3\\envs\\ddc_env\\lib\\site-packages\\IPython\\core\\interactiveshell.py\", line 2044, in showtraceback\n",
      "    stb = value._render_traceback_()\n",
      "AttributeError: 'TypeError' object has no attribute '_render_traceback_'\n",
      "\n",
      "During handling of the above exception, another exception occurred:\n",
      "\n",
      "Traceback (most recent call last):\n",
      "  File \"d:\\Anaconda\\Anaconda3\\envs\\ddc_env\\lib\\site-packages\\IPython\\core\\ultratb.py\", line 1169, in get_records\n",
      "    return _fixed_getinnerframes(etb, number_of_lines_of_context, tb_offset)\n",
      "  File \"d:\\Anaconda\\Anaconda3\\envs\\ddc_env\\lib\\site-packages\\IPython\\core\\ultratb.py\", line 316, in wrapped\n",
      "    return f(*args, **kwargs)\n",
      "  File \"d:\\Anaconda\\Anaconda3\\envs\\ddc_env\\lib\\site-packages\\IPython\\core\\ultratb.py\", line 350, in _fixed_getinnerframes\n",
      "    records = fix_frame_records_filenames(inspect.getinnerframes(etb, context))\n",
      "  File \"d:\\Anaconda\\Anaconda3\\envs\\ddc_env\\lib\\inspect.py\", line 1488, in getinnerframes\n",
      "    frameinfo = (tb.tb_frame,) + getframeinfo(tb, context)\n",
      "  File \"d:\\Anaconda\\Anaconda3\\envs\\ddc_env\\lib\\inspect.py\", line 1446, in getframeinfo\n",
      "    filename = getsourcefile(frame) or getfile(frame)\n",
      "  File \"d:\\Anaconda\\Anaconda3\\envs\\ddc_env\\lib\\inspect.py\", line 696, in getsourcefile\n",
      "    if getattr(getmodule(object, filename), '__loader__', None) is not None:\n",
      "  File \"d:\\Anaconda\\Anaconda3\\envs\\ddc_env\\lib\\inspect.py\", line 733, in getmodule\n",
      "    if ismodule(module) and hasattr(module, '__file__'):\n",
      "  File \"d:\\Anaconda\\Anaconda3\\envs\\ddc_env\\lib\\site-packages\\tensorflow\\__init__.py\", line 50, in __getattr__\n",
      "    module = self._load()\n",
      "  File \"d:\\Anaconda\\Anaconda3\\envs\\ddc_env\\lib\\site-packages\\tensorflow\\__init__.py\", line 44, in _load\n",
      "    module = _importlib.import_module(self.__name__)\n",
      "  File \"d:\\Anaconda\\Anaconda3\\envs\\ddc_env\\lib\\importlib\\__init__.py\", line 126, in import_module\n",
      "    return _bootstrap._gcd_import(name[level:], package, level)\n",
      "  File \"<frozen importlib._bootstrap>\", line 994, in _gcd_import\n",
      "  File \"<frozen importlib._bootstrap>\", line 971, in _find_and_load\n",
      "  File \"<frozen importlib._bootstrap>\", line 953, in _find_and_load_unlocked\n",
      "ModuleNotFoundError: No module named 'tensorflow_core.estimator'\n"
     ]
    }
   ],
   "source": [
    "for i in range(3):\n",
    "    print(\"model_0812_retrain_{}:\".format(i))\n",
    "    print(\"有效性={}.format\"(len(generators[i].sani_mols)/len(generators[i].mols)))"
   ]
  },
  {
   "cell_type": "code",
   "execution_count": null,
   "metadata": {},
   "outputs": [
    {
     "name": "stdout",
     "output_type": "stream",
     "text": [
      "model_0812_retrain_0:\n"
     ]
    },
    {
     "data": {
      "text/html": [
       "<div>\n",
       "<style scoped>\n",
       "    .dataframe tbody tr th:only-of-type {\n",
       "        vertical-align: middle;\n",
       "    }\n",
       "\n",
       "    .dataframe tbody tr th {\n",
       "        vertical-align: top;\n",
       "    }\n",
       "\n",
       "    .dataframe thead th {\n",
       "        text-align: right;\n",
       "    }\n",
       "</style>\n",
       "<table border=\"1\" class=\"dataframe\">\n",
       "  <thead>\n",
       "    <tr style=\"text-align: right;\">\n",
       "      <th></th>\n",
       "      <th>logp</th>\n",
       "      <th>tpsa</th>\n",
       "      <th>sub_similarity</th>\n",
       "      <th>qed</th>\n",
       "      <th>hba</th>\n",
       "      <th>hbd</th>\n",
       "    </tr>\n",
       "  </thead>\n",
       "  <tbody>\n",
       "    <tr>\n",
       "      <td>0</td>\n",
       "      <td>4.89142</td>\n",
       "      <td>77.51</td>\n",
       "      <td>0.96139</td>\n",
       "      <td>0.370723</td>\n",
       "      <td>5</td>\n",
       "      <td>0</td>\n",
       "    </tr>\n",
       "  </tbody>\n",
       "</table>\n",
       "</div>"
      ],
      "text/plain": [
       "      logp   tpsa  sub_similarity       qed  hba  hbd\n",
       "0  4.89142  77.51         0.96139  0.370723    5    0"
      ]
     },
     "metadata": {},
     "output_type": "display_data"
    },
    {
     "name": "stdout",
     "output_type": "stream",
     "text": [
      "model_0812_retrain_1:\n"
     ]
    },
    {
     "data": {
      "text/html": [
       "<div>\n",
       "<style scoped>\n",
       "    .dataframe tbody tr th:only-of-type {\n",
       "        vertical-align: middle;\n",
       "    }\n",
       "\n",
       "    .dataframe tbody tr th {\n",
       "        vertical-align: top;\n",
       "    }\n",
       "\n",
       "    .dataframe thead th {\n",
       "        text-align: right;\n",
       "    }\n",
       "</style>\n",
       "<table border=\"1\" class=\"dataframe\">\n",
       "  <thead>\n",
       "    <tr style=\"text-align: right;\">\n",
       "      <th></th>\n",
       "      <th>logp</th>\n",
       "      <th>tpsa</th>\n",
       "      <th>sub_similarity</th>\n",
       "      <th>qed</th>\n",
       "      <th>hba</th>\n",
       "      <th>hbd</th>\n",
       "    </tr>\n",
       "  </thead>\n",
       "  <tbody>\n",
       "    <tr>\n",
       "      <td>0</td>\n",
       "      <td>4.392</td>\n",
       "      <td>77.51</td>\n",
       "      <td>0.739382</td>\n",
       "      <td>0.282605</td>\n",
       "      <td>5</td>\n",
       "      <td>0</td>\n",
       "    </tr>\n",
       "  </tbody>\n",
       "</table>\n",
       "</div>"
      ],
      "text/plain": [
       "    logp   tpsa  sub_similarity       qed  hba  hbd\n",
       "0  4.392  77.51        0.739382  0.282605    5    0"
      ]
     },
     "metadata": {},
     "output_type": "display_data"
    },
    {
     "name": "stdout",
     "output_type": "stream",
     "text": [
      "model_0812_retrain_2:\n"
     ]
    },
    {
     "data": {
      "text/html": [
       "<div>\n",
       "<style scoped>\n",
       "    .dataframe tbody tr th:only-of-type {\n",
       "        vertical-align: middle;\n",
       "    }\n",
       "\n",
       "    .dataframe tbody tr th {\n",
       "        vertical-align: top;\n",
       "    }\n",
       "\n",
       "    .dataframe thead th {\n",
       "        text-align: right;\n",
       "    }\n",
       "</style>\n",
       "<table border=\"1\" class=\"dataframe\">\n",
       "  <thead>\n",
       "    <tr style=\"text-align: right;\">\n",
       "      <th></th>\n",
       "      <th>logp</th>\n",
       "      <th>tpsa</th>\n",
       "      <th>sub_similarity</th>\n",
       "      <th>qed</th>\n",
       "      <th>hba</th>\n",
       "      <th>hbd</th>\n",
       "    </tr>\n",
       "  </thead>\n",
       "  <tbody>\n",
       "    <tr>\n",
       "      <td>0</td>\n",
       "      <td>4.5361</td>\n",
       "      <td>77.51</td>\n",
       "      <td>1.0</td>\n",
       "      <td>0.285699</td>\n",
       "      <td>5</td>\n",
       "      <td>0</td>\n",
       "    </tr>\n",
       "  </tbody>\n",
       "</table>\n",
       "</div>"
      ],
      "text/plain": [
       "     logp   tpsa  sub_similarity       qed  hba  hbd\n",
       "0  4.5361  77.51             1.0  0.285699    5    0"
      ]
     },
     "metadata": {},
     "output_type": "display_data"
    }
   ],
   "source": [
    "for i in range(3):\n",
    "    print(\"model_0812_retrain_{}:\".format(i))\n",
    "    generators[i].show_data(1)\n"
   ]
  },
  {
   "cell_type": "code",
   "execution_count": null,
   "metadata": {},
   "outputs": [
    {
     "name": "stdout",
     "output_type": "stream",
     "text": [
      "model_0812_retrain_0:\n"
     ]
    },
    {
     "name": "stderr",
     "output_type": "stream",
     "text": [
      "\n",
      "Bad key \"text.kerning_factor\" on line 4 in\n",
      "d:\\Anaconda\\Anaconda3\\envs\\ddc_env\\lib\\site-packages\\matplotlib\\mpl-data\\stylelib\\_classic_test_patch.mplstyle.\n",
      "You probably need to get an updated matplotlibrc file from\n",
      "http://github.com/matplotlib/matplotlib/blob/master/matplotlibrc.template\n",
      "or from the matplotlib source distribution\n"
     ]
    },
    {
     "name": "stdout",
     "output_type": "stream",
     "text": [
      "model_0812_retrain_1:\n",
      "model_0812_retrain_2:\n"
     ]
    },
    {
     "data": {
      "image/png": "[encoded data removed]",
      "text/plain": [
       "<Figure size 576x432 with 6 Axes>"
      ]
     },
     "metadata": {
      "needs_background": "light"
     },
     "output_type": "display_data"
    },
    {
     "data": {
      "image/png": "[encoded data removed]",
      "text/plain": [
       "<Figure size 576x432 with 6 Axes>"
      ]
     },
     "metadata": {
      "needs_background": "light"
     },
     "output_type": "display_data"
    },
    {
     "data": {
      "image/png": "[encoded data removed]",
      "text/plain": [
       "<Figure size 576x432 with 6 Axes>"
      ]
     },
     "metadata": {
      "needs_background": "light"
     },
     "output_type": "display_data"
    }
   ],
   "source": [
    "for i in range(3):\n",
    "    print(\"model_0812_retrain_{}:\".format(i))\n",
    "    generators[i].plot()"
   ]
  },
  {
   "cell_type": "code",
   "execution_count": 11,
   "metadata": {},
   "outputs": [
    {
     "data": {
      "application/vnd.jupyter.widget-view+json": {
       "model_id": "59d397cb4dcc403397c7ffddd9ea8988",
       "version_major": 2,
       "version_minor": 0
      },
      "text/plain": [
       "interactive(children=(Dropdown(description='i', options=(0, 1, 2, 3, 4, 5, 6, 7, 8, 9, 10, 11, 12, 13, 14, 15,…"
      ]
     },
     "metadata": {},
     "output_type": "display_data"
    }
   ],
   "source": [
    "generator_2.interact()\n"
   ]
  },
  {
   "cell_type": "code",
   "execution_count": 7,
   "metadata": {},
   "outputs": [
    {
     "name": "stdout",
     "output_type": "stream",
     "text": [
      "model_0812_retrain_0:\n"
     ]
    },
    {
     "data": {
      "text/html": [
       "<div>\n",
       "<style scoped>\n",
       "    .dataframe tbody tr th:only-of-type {\n",
       "        vertical-align: middle;\n",
       "    }\n",
       "\n",
       "    .dataframe tbody tr th {\n",
       "        vertical-align: top;\n",
       "    }\n",
       "\n",
       "    .dataframe thead th {\n",
       "        text-align: right;\n",
       "    }\n",
       "</style>\n",
       "<table border=\"1\" class=\"dataframe\">\n",
       "  <thead>\n",
       "    <tr style=\"text-align: right;\">\n",
       "      <th></th>\n",
       "      <th>logp</th>\n",
       "      <th>tpsa</th>\n",
       "      <th>sub_similarity</th>\n",
       "      <th>qed</th>\n",
       "      <th>hba</th>\n",
       "      <th>hbd</th>\n",
       "    </tr>\n",
       "  </thead>\n",
       "  <tbody>\n",
       "    <tr>\n",
       "      <td>1529</td>\n",
       "      <td>4.58360</td>\n",
       "      <td>77.51</td>\n",
       "      <td>1.0</td>\n",
       "      <td>0.272074</td>\n",
       "      <td>5</td>\n",
       "      <td>0</td>\n",
       "    </tr>\n",
       "    <tr>\n",
       "      <td>1528</td>\n",
       "      <td>4.32780</td>\n",
       "      <td>77.51</td>\n",
       "      <td>1.0</td>\n",
       "      <td>0.374057</td>\n",
       "      <td>5</td>\n",
       "      <td>0</td>\n",
       "    </tr>\n",
       "    <tr>\n",
       "      <td>852</td>\n",
       "      <td>4.77460</td>\n",
       "      <td>77.51</td>\n",
       "      <td>1.0</td>\n",
       "      <td>0.352826</td>\n",
       "      <td>5</td>\n",
       "      <td>0</td>\n",
       "    </tr>\n",
       "    <tr>\n",
       "      <td>862</td>\n",
       "      <td>4.33090</td>\n",
       "      <td>77.51</td>\n",
       "      <td>1.0</td>\n",
       "      <td>0.365808</td>\n",
       "      <td>5</td>\n",
       "      <td>0</td>\n",
       "    </tr>\n",
       "    <tr>\n",
       "      <td>935</td>\n",
       "      <td>4.68912</td>\n",
       "      <td>77.51</td>\n",
       "      <td>1.0</td>\n",
       "      <td>0.290589</td>\n",
       "      <td>5</td>\n",
       "      <td>0</td>\n",
       "    </tr>\n",
       "  </tbody>\n",
       "</table>\n",
       "</div>"
      ],
      "text/plain": [
       "         logp   tpsa  sub_similarity       qed  hba  hbd\n",
       "1529  4.58360  77.51             1.0  0.272074    5    0\n",
       "1528  4.32780  77.51             1.0  0.374057    5    0\n",
       "852   4.77460  77.51             1.0  0.352826    5    0\n",
       "862   4.33090  77.51             1.0  0.365808    5    0\n",
       "935   4.68912  77.51             1.0  0.290589    5    0"
      ]
     },
     "metadata": {},
     "output_type": "display_data"
    },
    {
     "name": "stdout",
     "output_type": "stream",
     "text": [
      "model_0812_retrain_1:\n"
     ]
    },
    {
     "data": {
      "text/html": [
       "<div>\n",
       "<style scoped>\n",
       "    .dataframe tbody tr th:only-of-type {\n",
       "        vertical-align: middle;\n",
       "    }\n",
       "\n",
       "    .dataframe tbody tr th {\n",
       "        vertical-align: top;\n",
       "    }\n",
       "\n",
       "    .dataframe thead th {\n",
       "        text-align: right;\n",
       "    }\n",
       "</style>\n",
       "<table border=\"1\" class=\"dataframe\">\n",
       "  <thead>\n",
       "    <tr style=\"text-align: right;\">\n",
       "      <th></th>\n",
       "      <th>logp</th>\n",
       "      <th>tpsa</th>\n",
       "      <th>sub_similarity</th>\n",
       "      <th>qed</th>\n",
       "      <th>hba</th>\n",
       "      <th>hbd</th>\n",
       "    </tr>\n",
       "  </thead>\n",
       "  <tbody>\n",
       "    <tr>\n",
       "      <td>267</td>\n",
       "      <td>4.4719</td>\n",
       "      <td>77.51</td>\n",
       "      <td>1.0</td>\n",
       "      <td>0.367526</td>\n",
       "      <td>5</td>\n",
       "      <td>0</td>\n",
       "    </tr>\n",
       "    <tr>\n",
       "      <td>263</td>\n",
       "      <td>4.4719</td>\n",
       "      <td>77.51</td>\n",
       "      <td>1.0</td>\n",
       "      <td>0.349746</td>\n",
       "      <td>5</td>\n",
       "      <td>0</td>\n",
       "    </tr>\n",
       "    <tr>\n",
       "      <td>1128</td>\n",
       "      <td>4.1983</td>\n",
       "      <td>77.51</td>\n",
       "      <td>1.0</td>\n",
       "      <td>0.381892</td>\n",
       "      <td>5</td>\n",
       "      <td>0</td>\n",
       "    </tr>\n",
       "    <tr>\n",
       "      <td>1503</td>\n",
       "      <td>4.7821</td>\n",
       "      <td>77.51</td>\n",
       "      <td>1.0</td>\n",
       "      <td>0.253719</td>\n",
       "      <td>5</td>\n",
       "      <td>0</td>\n",
       "    </tr>\n",
       "    <tr>\n",
       "      <td>955</td>\n",
       "      <td>4.3920</td>\n",
       "      <td>77.51</td>\n",
       "      <td>1.0</td>\n",
       "      <td>0.260350</td>\n",
       "      <td>5</td>\n",
       "      <td>0</td>\n",
       "    </tr>\n",
       "  </tbody>\n",
       "</table>\n",
       "</div>"
      ],
      "text/plain": [
       "        logp   tpsa  sub_similarity       qed  hba  hbd\n",
       "267   4.4719  77.51             1.0  0.367526    5    0\n",
       "263   4.4719  77.51             1.0  0.349746    5    0\n",
       "1128  4.1983  77.51             1.0  0.381892    5    0\n",
       "1503  4.7821  77.51             1.0  0.253719    5    0\n",
       "955   4.3920  77.51             1.0  0.260350    5    0"
      ]
     },
     "metadata": {},
     "output_type": "display_data"
    },
    {
     "name": "stdout",
     "output_type": "stream",
     "text": [
      "model_0812_retrain_2:\n"
     ]
    },
    {
     "data": {
      "text/html": [
       "<div>\n",
       "<style scoped>\n",
       "    .dataframe tbody tr th:only-of-type {\n",
       "        vertical-align: middle;\n",
       "    }\n",
       "\n",
       "    .dataframe tbody tr th {\n",
       "        vertical-align: top;\n",
       "    }\n",
       "\n",
       "    .dataframe thead th {\n",
       "        text-align: right;\n",
       "    }\n",
       "</style>\n",
       "<table border=\"1\" class=\"dataframe\">\n",
       "  <thead>\n",
       "    <tr style=\"text-align: right;\">\n",
       "      <th></th>\n",
       "      <th>logp</th>\n",
       "      <th>tpsa</th>\n",
       "      <th>sub_similarity</th>\n",
       "      <th>qed</th>\n",
       "      <th>hba</th>\n",
       "      <th>hbd</th>\n",
       "    </tr>\n",
       "  </thead>\n",
       "  <tbody>\n",
       "    <tr>\n",
       "      <td>1887</td>\n",
       "      <td>4.77960</td>\n",
       "      <td>77.51</td>\n",
       "      <td>1.0</td>\n",
       "      <td>0.339022</td>\n",
       "      <td>5</td>\n",
       "      <td>0</td>\n",
       "    </tr>\n",
       "    <tr>\n",
       "      <td>947</td>\n",
       "      <td>4.56590</td>\n",
       "      <td>77.51</td>\n",
       "      <td>1.0</td>\n",
       "      <td>0.401917</td>\n",
       "      <td>5</td>\n",
       "      <td>0</td>\n",
       "    </tr>\n",
       "    <tr>\n",
       "      <td>949</td>\n",
       "      <td>4.31322</td>\n",
       "      <td>77.51</td>\n",
       "      <td>1.0</td>\n",
       "      <td>0.384401</td>\n",
       "      <td>5</td>\n",
       "      <td>0</td>\n",
       "    </tr>\n",
       "    <tr>\n",
       "      <td>951</td>\n",
       "      <td>4.52040</td>\n",
       "      <td>77.51</td>\n",
       "      <td>1.0</td>\n",
       "      <td>0.269405</td>\n",
       "      <td>5</td>\n",
       "      <td>0</td>\n",
       "    </tr>\n",
       "    <tr>\n",
       "      <td>1888</td>\n",
       "      <td>5.21240</td>\n",
       "      <td>60.44</td>\n",
       "      <td>1.0</td>\n",
       "      <td>0.284616</td>\n",
       "      <td>4</td>\n",
       "      <td>0</td>\n",
       "    </tr>\n",
       "  </tbody>\n",
       "</table>\n",
       "</div>"
      ],
      "text/plain": [
       "         logp   tpsa  sub_similarity       qed  hba  hbd\n",
       "1887  4.77960  77.51             1.0  0.339022    5    0\n",
       "947   4.56590  77.51             1.0  0.401917    5    0\n",
       "949   4.31322  77.51             1.0  0.384401    5    0\n",
       "951   4.52040  77.51             1.0  0.269405    5    0\n",
       "1888  5.21240  60.44             1.0  0.284616    4    0"
      ]
     },
     "metadata": {},
     "output_type": "display_data"
    }
   ],
   "source": [
    "for i in range(3):\n",
    "    print(\"model_0812_retrain_{}:\".format(i))\n",
    "    display(generators[i].data.sort_values(\"sub_similarity\").tail(5))"
   ]
  },
  {
   "cell_type": "code",
   "execution_count": 8,
   "metadata": {},
   "outputs": [
    {
     "data": {
      "text/plain": [
       "2862"
      ]
     },
     "execution_count": 8,
     "metadata": {},
     "output_type": "execute_result"
    }
   ],
   "source": [
    "import h5py\n",
    "import numpy as np\n",
    "\n",
    "with h5py.File(\"datasets/model_0813_2.h5\", \"r\") as f:\n",
    "    binmols = np.asarray(f['mols'])\n",
    "\n",
    "mols = [Chem.Mol(binmol) for binmol in binmols]\n",
    "len(mols)"
   ]
  },
  {
   "cell_type": "code",
   "execution_count": 9,
   "metadata": {},
   "outputs": [
    {
     "data": {
      "image/png": "[encoded data removed]",
      "text/plain": [
       "<rdkit.Chem.rdchem.Mol at 0x1fdd868c458>"
      ]
     },
     "metadata": {},
     "output_type": "display_data"
    }
   ],
   "source": [
    "display(mols[5])"
   ]
  },
  {
   "cell_type": "code",
   "execution_count": 1,
   "metadata": {},
   "outputs": [
    {
     "data": {
      "text/plain": [
       "5.42385520571261"
      ]
     },
     "execution_count": 1,
     "metadata": {},
     "output_type": "execute_result"
    }
   ],
   "source": [
    "from rdkit import Chem\n",
    "from rdkit.Chem import RDConfig\n",
    "import os\n",
    "import sys\n",
    "sys.path.append(os.path.join(RDConfig.RDContribDir, 'SA_Score'))\n",
    "# now you can import sascore!\n",
    "import sascorer\n",
    "mol = Chem.MolFromSmiles('CC1(C)C(CCC2(C)C1CCC(C34C)(C)C2CC(C)(C4=O)C(C)=C(C(OC)=O)C3=O)=O')\n",
    "s = sascorer.calculateScore(mol)\n",
    "s"
   ]
  }
 ],
 "metadata": {
  "interpreter": {
   "hash": "e78e90599c5fb8f980b5b4db672a9b193d0d2d67500e6742a058ef0e4774177f"
  },
  "kernelspec": {
   "display_name": "Python 3",
   "language": "python",
   "name": "python3"
  },
  "language_info": {
   "codemirror_mode": {
    "name": "ipython",
    "version": 3
   },
   "file_extension": ".py",
   "mimetype": "text/x-python",
   "name": "python",
   "nbconvert_exporter": "python",
   "pygments_lexer": "ipython3",
   "version": "3.6.7"
  }
 },
 "nbformat": 4,
 "nbformat_minor": 4
}
