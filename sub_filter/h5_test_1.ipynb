{
 "cells": [
  {
   "cell_type": "code",
   "execution_count": 1,
   "metadata": {},
   "outputs": [],
   "source": [
    "import imp\n",
    "import rdkit, h5py\n",
    "from rdkit import Chem\n",
    "from rdkit.Chem import rdFMCS,AllChem,Draw\n",
    "from rdkit import DataStructs\n",
    "\n",
    "import numpy as np\n",
    "import pandas as pd\n"
   ]
  },
  {
   "cell_type": "code",
   "execution_count": 25,
   "metadata": {},
   "outputs": [],
   "source": [
    "def get_sim(mol, sub_mol) -> float: \n",
    "    try:\n",
    "        res = rdFMCS.FindMCS([mol, sub_mol], timeout=1)\n",
    "        if res.smartsString == \"\" or res.canceled:\n",
    "            return 0\n",
    "        mcs_mol = Chem.MolFromSmarts(res.smartsString)\n",
    "        Chem.SanitizeMol(mcs_mol)\n",
    "\n",
    "        mcs_mol_fp = AllChem.GetMorganFingerprintAsBitVect(mcs_mol, 2, nBits=2048)\n",
    "        sub_mol_fp = AllChem.GetMorganFingerprintAsBitVect(sub_mol, 2, nBits=2048)\n",
    "        sim = DataStructs.FingerprintSimilarity(sub_mol_fp, mcs_mol_fp)\n",
    "\n",
    "        \n",
    "    except Exception as e:\n",
    "        print(\"...Exception Occurred at {:1}:\".format(Chem.MolToSmiles(mol)))\n",
    "        print(e)\n",
    "        return 0\n",
    "    \n",
    "    print(\"original_mol:\")\n",
    "    display(Draw.MolToImage(mol))\n",
    "    print(\"sub_mol:\")\n",
    "    display(Draw.MolToImage(sub_mol))\n",
    "    print(\"mcs_mol:\")\n",
    "    display(Draw.MolToImage(mcs_mol))\n",
    "\n",
    "    return sim"
   ]
  },
  {
   "cell_type": "code",
   "execution_count": null,
   "metadata": {},
   "outputs": [],
   "source": [
    "sub_mol = Chem.MolFromSmiles(\"C1C(C2(=O))C(=O)C=CC2CC1\")\n",
    "mol = Chem.Mol(binmols[92435])\n",
    "print(get_sim(mol, sub_mol))\n",
    "Draw.MolToImage(sub_mol)"
   ]
  },
  {
   "cell_type": "code",
   "execution_count": null,
   "metadata": {},
   "outputs": [],
   "source": [
    "sub_mol = Chem.MolFromSmiles(\"O=C(OC)C1=CC(C2=O)CCCC2C1=O\")\n",
    "#sub_mol = Chem.MolFromSmiles(\"C1C(C2(=O))C(=O)C=CC2CC1\")\n",
    "Draw.MolToImage(sub_mol)\n",
    "#mol = Chem.MolFromSmiles(\"CC1(C)C(CCC2(C)C1CCC(C34C)(C)C2CC(C)(C4=O)C(C)=C(C(OC)=O)C3=O)=O\")\n",
    "mol = Chem.Mol(binmols[92435])\n",
    "print(get_sim(mol, sub_mol))\n"
   ]
  },
  {
   "cell_type": "code",
   "execution_count": 3,
   "metadata": {},
   "outputs": [],
   "source": [
    "#Load HDF5 file\n",
    "#dataset_filename = r\"C:\\Users\\Leave\\OneDrive - hust.edu.cn\\大创\\pcko1-Deep-Drug-Coder-d6e7ef3\\datasets\\CHEMBL25_TRAIN_MOLS.h5\"\n",
    "dataset_filename = r\"../datasets/CHEMBL25_FILTERED_1.h5\"\n",
    "with h5py.File(dataset_filename, \"r\") as f:\n",
    "    binmols = np.asarray(f[\"mols\"])\n",
    "    idxs = np.asarray(f[\"idxs\"])\n",
    "    sims = np.asarray(f[\"sims\"])\n"
   ]
  },
  {
   "cell_type": "code",
   "execution_count": 4,
   "metadata": {},
   "outputs": [],
   "source": [
    "smiles_data = []\n",
    "for idx, binmol in enumerate(binmols):\n",
    "    mol = Chem.Mol(binmol)\n",
    "    smiles = Chem.MolToSmiles(mol)\n",
    "    smiles_data.append(smiles)\n",
    "smiles_data = np.asarray(smiles_data)\n",
    "\n",
    "#sims = [eval(sim) for idx, sim in enumerate(sims)]\n",
    "\n",
    "data = np.asarray([idxs, smiles_data, sims]).T\n"
   ]
  },
  {
   "cell_type": "code",
   "execution_count": 8,
   "metadata": {},
   "outputs": [
    {
     "data": {
      "text/plain": [
       "60"
      ]
     },
     "execution_count": 8,
     "metadata": {},
     "output_type": "execute_result"
    }
   ],
   "source": [
    "pd_data = pd.DataFrame(data, columns=[\"index\", \"smiles\", \"sub_similarity\"], copy=True)\n",
    "#len(pd_data.loc[[eval(i)<0.3 for i in pd_data[\"sub_similarity\"]]])\n"
   ]
  },
  {
   "cell_type": "code",
   "execution_count": 6,
   "metadata": {},
   "outputs": [
    {
     "name": "stderr",
     "output_type": "stream",
     "text": [
      "\n",
      "Bad key \"text.kerning_factor\" on line 4 in\n",
      "d:\\Anaconda\\Anaconda3\\envs\\ddc_env\\lib\\site-packages\\matplotlib\\mpl-data\\stylelib\\_classic_test_patch.mplstyle.\n",
      "You probably need to get an updated matplotlibrc file from\n",
      "http://github.com/matplotlib/matplotlib/blob/master/matplotlibrc.template\n",
      "or from the matplotlib source distribution\n"
     ]
    },
    {
     "data": {
      "text/plain": [
       "<matplotlib.axes._subplots.AxesSubplot at 0x285d132d4a8>"
      ]
     },
     "execution_count": 6,
     "metadata": {},
     "output_type": "execute_result"
    },
    {
     "data": {
      "image/png": "[encoded data removed]",
      "text/plain": [
       "<Figure size 576x432 with 1 Axes>"
      ]
     },
     "metadata": {
      "needs_background": "light"
     },
     "output_type": "display_data"
    }
   ],
   "source": [
    "# 绘制样品分布\n",
    "pd_data[\"sub_similarity\"].sort_values().hist(bins=25, figsize=(8, 6), xrot=90)\n"
   ]
  },
  {
   "cell_type": "code",
   "execution_count": 7,
   "metadata": {},
   "outputs": [
    {
     "data": {
      "text/html": [
       "<div>\n",
       "<style scoped>\n",
       "    .dataframe tbody tr th:only-of-type {\n",
       "        vertical-align: middle;\n",
       "    }\n",
       "\n",
       "    .dataframe tbody tr th {\n",
       "        vertical-align: top;\n",
       "    }\n",
       "\n",
       "    .dataframe thead th {\n",
       "        text-align: right;\n",
       "    }\n",
       "</style>\n",
       "<table border=\"1\" class=\"dataframe\">\n",
       "  <thead>\n",
       "    <tr style=\"text-align: right;\">\n",
       "      <th></th>\n",
       "      <th>index</th>\n",
       "      <th>smiles</th>\n",
       "      <th>sub_similarity</th>\n",
       "    </tr>\n",
       "  </thead>\n",
       "  <tbody>\n",
       "    <tr>\n",
       "      <td>404</td>\n",
       "      <td>1286116</td>\n",
       "      <td>COC1=C(C(=O)c2ccccc2)C(=O)C2(CC=C(C)C)C(=O)C1(...</td>\n",
       "      <td>0.48717948717948717</td>\n",
       "    </tr>\n",
       "    <tr>\n",
       "      <td>98</td>\n",
       "      <td>319962</td>\n",
       "      <td>CC(C)=CCC1CC2(CC=C(C)C)C=C(C(=O)c3ccccc3)C(=O)...</td>\n",
       "      <td>0.48717948717948717</td>\n",
       "    </tr>\n",
       "    <tr>\n",
       "      <td>401</td>\n",
       "      <td>1271154</td>\n",
       "      <td>COC1=C(C(=O)c2ccccc2)C(=O)C2(CC=C(C)C)CC(C(=O)...</td>\n",
       "      <td>0.48717948717948717</td>\n",
       "    </tr>\n",
       "    <tr>\n",
       "      <td>247</td>\n",
       "      <td>810236</td>\n",
       "      <td>COC1=C(C(=O)c2ccccc2)C(=O)C2(CC=C(C)C)CC(CC=C(...</td>\n",
       "      <td>0.48717948717948717</td>\n",
       "    </tr>\n",
       "    <tr>\n",
       "      <td>209</td>\n",
       "      <td>665414</td>\n",
       "      <td>CC(C)=CCCC(C)=CCC1CC23CC(O)C(C)(C)OC2=C(C(=O)c...</td>\n",
       "      <td>0.48717948717948717</td>\n",
       "    </tr>\n",
       "    <tr>\n",
       "      <td>206</td>\n",
       "      <td>645407</td>\n",
       "      <td>COC(=O)C1CC2(CC=C(C)C)C(=O)C(CC=C(C)C)(C(=O)C(...</td>\n",
       "      <td>0.48717948717948717</td>\n",
       "    </tr>\n",
       "    <tr>\n",
       "      <td>201</td>\n",
       "      <td>628723</td>\n",
       "      <td>CC=C(C)CC1CC23CC(CC=C(C)C)C(C)(C)C(CC=C(C)C)(C...</td>\n",
       "      <td>0.48717948717948717</td>\n",
       "    </tr>\n",
       "    <tr>\n",
       "      <td>199</td>\n",
       "      <td>620711</td>\n",
       "      <td>CC(C)=CCC1CC23CC(C(C)(C)O)OC2=C(C(=O)c2ccccc2)...</td>\n",
       "      <td>0.48717948717948717</td>\n",
       "    </tr>\n",
       "    <tr>\n",
       "      <td>344</td>\n",
       "      <td>1085626</td>\n",
       "      <td>COC1=C(C(=O)c2ccccc2)C(=O)C2(CC=C(C)C)CC(C(=O)...</td>\n",
       "      <td>0.48717948717948717</td>\n",
       "    </tr>\n",
       "    <tr>\n",
       "      <td>185</td>\n",
       "      <td>598281</td>\n",
       "      <td>CC(C)=CCCC(C)=CCC1CC23CC(C(C)(C)O)OC2=C(C(=O)c...</td>\n",
       "      <td>0.48717948717948717</td>\n",
       "    </tr>\n",
       "    <tr>\n",
       "      <td>180</td>\n",
       "      <td>578790</td>\n",
       "      <td>COc1ccc(C(=O)C2=C3OC(C)(C)C(CC=C(C)C)CC34CC(C=...</td>\n",
       "      <td>0.48717948717948717</td>\n",
       "    </tr>\n",
       "    <tr>\n",
       "      <td>257</td>\n",
       "      <td>830171</td>\n",
       "      <td>CC(C)=CCC1CC2(CC=C(C)C)C(=O)C(C(=O)c3ccccc3)=C...</td>\n",
       "      <td>0.48717948717948717</td>\n",
       "    </tr>\n",
       "    <tr>\n",
       "      <td>168</td>\n",
       "      <td>552855</td>\n",
       "      <td>C=C(C)C1CC23CC(CC=C(C)C)C(C)(C)C(CC=C(C)C)(C(=...</td>\n",
       "      <td>0.48717948717948717</td>\n",
       "    </tr>\n",
       "    <tr>\n",
       "      <td>389</td>\n",
       "      <td>1226734</td>\n",
       "      <td>COC1=C(C(=O)c2ccccc2)C(=O)C2(CC=C(C)C)CC(C#N)C...</td>\n",
       "      <td>0.48717948717948717</td>\n",
       "    </tr>\n",
       "    <tr>\n",
       "      <td>151</td>\n",
       "      <td>508393</td>\n",
       "      <td>CC(C)=CCCC1(C)C(CC=C(C)C)CC2(CC=C(C)C)C(=O)C(C...</td>\n",
       "      <td>0.48717948717948717</td>\n",
       "    </tr>\n",
       "    <tr>\n",
       "      <td>266</td>\n",
       "      <td>859956</td>\n",
       "      <td>CC(C)=CCC1CC23CC(CC=C(C)C)C(C)(C)C(CC=C(C)C)(C...</td>\n",
       "      <td>0.48717948717948717</td>\n",
       "    </tr>\n",
       "    <tr>\n",
       "      <td>227</td>\n",
       "      <td>712990</td>\n",
       "      <td>COc1cc(C(=O)C2=C3OC(C)(C)C(CC=C(C)C)CC34CC(CC=...</td>\n",
       "      <td>0.48717948717948717</td>\n",
       "    </tr>\n",
       "    <tr>\n",
       "      <td>317</td>\n",
       "      <td>993461</td>\n",
       "      <td>C=C(C)CCC(CC12CC(CC=C(C)C)C(C)(C)C3(CC(C(C)(C)...</td>\n",
       "      <td>0.48717948717948717</td>\n",
       "    </tr>\n",
       "    <tr>\n",
       "      <td>0</td>\n",
       "      <td>615</td>\n",
       "      <td>CC(C)=CCC1CC23CC(CC=C(C)C)C(C)(C)C(CC=C(C)C)(C...</td>\n",
       "      <td>0.48717948717948717</td>\n",
       "    </tr>\n",
       "    <tr>\n",
       "      <td>90</td>\n",
       "      <td>289256</td>\n",
       "      <td>C=CCC1=CC2(O)CC(O)C(C)(C)C(C1=O)C2=O</td>\n",
       "      <td>0.5405405405405406</td>\n",
       "    </tr>\n",
       "  </tbody>\n",
       "</table>\n",
       "</div>"
      ],
      "text/plain": [
       "       index                                             smiles  \\\n",
       "404  1286116  COC1=C(C(=O)c2ccccc2)C(=O)C2(CC=C(C)C)C(=O)C1(...   \n",
       "98    319962  CC(C)=CCC1CC2(CC=C(C)C)C=C(C(=O)c3ccccc3)C(=O)...   \n",
       "401  1271154  COC1=C(C(=O)c2ccccc2)C(=O)C2(CC=C(C)C)CC(C(=O)...   \n",
       "247   810236  COC1=C(C(=O)c2ccccc2)C(=O)C2(CC=C(C)C)CC(CC=C(...   \n",
       "209   665414  CC(C)=CCCC(C)=CCC1CC23CC(O)C(C)(C)OC2=C(C(=O)c...   \n",
       "206   645407  COC(=O)C1CC2(CC=C(C)C)C(=O)C(CC=C(C)C)(C(=O)C(...   \n",
       "201   628723  CC=C(C)CC1CC23CC(CC=C(C)C)C(C)(C)C(CC=C(C)C)(C...   \n",
       "199   620711  CC(C)=CCC1CC23CC(C(C)(C)O)OC2=C(C(=O)c2ccccc2)...   \n",
       "344  1085626  COC1=C(C(=O)c2ccccc2)C(=O)C2(CC=C(C)C)CC(C(=O)...   \n",
       "185   598281  CC(C)=CCCC(C)=CCC1CC23CC(C(C)(C)O)OC2=C(C(=O)c...   \n",
       "180   578790  COc1ccc(C(=O)C2=C3OC(C)(C)C(CC=C(C)C)CC34CC(C=...   \n",
       "257   830171  CC(C)=CCC1CC2(CC=C(C)C)C(=O)C(C(=O)c3ccccc3)=C...   \n",
       "168   552855  C=C(C)C1CC23CC(CC=C(C)C)C(C)(C)C(CC=C(C)C)(C(=...   \n",
       "389  1226734  COC1=C(C(=O)c2ccccc2)C(=O)C2(CC=C(C)C)CC(C#N)C...   \n",
       "151   508393  CC(C)=CCCC1(C)C(CC=C(C)C)CC2(CC=C(C)C)C(=O)C(C...   \n",
       "266   859956  CC(C)=CCC1CC23CC(CC=C(C)C)C(C)(C)C(CC=C(C)C)(C...   \n",
       "227   712990  COc1cc(C(=O)C2=C3OC(C)(C)C(CC=C(C)C)CC34CC(CC=...   \n",
       "317   993461  C=C(C)CCC(CC12CC(CC=C(C)C)C(C)(C)C3(CC(C(C)(C)...   \n",
       "0        615  CC(C)=CCC1CC23CC(CC=C(C)C)C(C)(C)C(CC=C(C)C)(C...   \n",
       "90    289256               C=CCC1=CC2(O)CC(O)C(C)(C)C(C1=O)C2=O   \n",
       "\n",
       "          sub_similarity  \n",
       "404  0.48717948717948717  \n",
       "98   0.48717948717948717  \n",
       "401  0.48717948717948717  \n",
       "247  0.48717948717948717  \n",
       "209  0.48717948717948717  \n",
       "206  0.48717948717948717  \n",
       "201  0.48717948717948717  \n",
       "199  0.48717948717948717  \n",
       "344  0.48717948717948717  \n",
       "185  0.48717948717948717  \n",
       "180  0.48717948717948717  \n",
       "257  0.48717948717948717  \n",
       "168  0.48717948717948717  \n",
       "389  0.48717948717948717  \n",
       "151  0.48717948717948717  \n",
       "266  0.48717948717948717  \n",
       "227  0.48717948717948717  \n",
       "317  0.48717948717948717  \n",
       "0    0.48717948717948717  \n",
       "90    0.5405405405405406  "
      ]
     },
     "execution_count": 7,
     "metadata": {},
     "output_type": "execute_result"
    }
   ],
   "source": [
    "pd_data.sort_values(\"sub_similarity\").tail(20)"
   ]
  },
  {
   "cell_type": "code",
   "execution_count": 9,
   "metadata": {},
   "outputs": [
    {
     "data": {
      "text/plain": [
       "422"
      ]
     },
     "execution_count": 9,
     "metadata": {},
     "output_type": "execute_result"
    }
   ],
   "source": [
    "len(pd_data)"
   ]
  }
 ],
 "metadata": {
  "kernelspec": {
   "display_name": "Python 3.6.7 ('ddc_env')",
   "language": "python",
   "name": "python3"
  },
  "language_info": {
   "codemirror_mode": {
    "name": "ipython",
    "version": 3
   },
   "file_extension": ".py",
   "mimetype": "text/x-python",
   "name": "python",
   "nbconvert_exporter": "python",
   "pygments_lexer": "ipython3",
   "version": "3.6.7"
  },
  "orig_nbformat": 4,
  "vscode": {
   "interpreter": {
    "hash": "e78e90599c5fb8f980b5b4db672a9b193d0d2d67500e6742a058ef0e4774177f"
   }
  }
 },
 "nbformat": 4,
 "nbformat_minor": 2
}
