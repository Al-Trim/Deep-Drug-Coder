{
 "cells": [
  {
   "cell_type": "code",
   "execution_count": 1,
   "metadata": {},
   "outputs": [],
   "source": [
    "import imp\n",
    "import rdkit, h5py\n",
    "from rdkit import Chem\n",
    "from rdkit.Chem import rdFMCS,AllChem,Draw\n",
    "from rdkit import DataStructs\n",
    "\n",
    "import numpy as np\n",
    "import pandas as pd\n"
   ]
  },
  {
   "cell_type": "code",
   "execution_count": 2,
   "metadata": {},
   "outputs": [],
   "source": [
    "def get_sim(mol, sub_mol) -> float: \n",
    "    try:\n",
    "        res = rdFMCS.FindMCS([mol, sub_mol], timeout=1, bondCompare=rdFMCS.BondCompare.CompareAny, ringMatchesRingOnly=True, atomCompare=rdFMCS.AtomCompare.CompareAny)\n",
    "        if res.smartsString == \"\" or res.canceled:\n",
    "            return 0\n",
    "        mcs_mol = Chem.MolFromSmarts(res.smartsString)\n",
    "        Chem.SanitizeMol(mcs_mol)\n",
    "\n",
    "        mcs_mol_fp = AllChem.GetMorganFingerprintAsBitVect(mcs_mol, 2, nBits=2048)\n",
    "        sub_mol_fp = AllChem.GetMorganFingerprintAsBitVect(sub_mol, 2, nBits=2048)\n",
    "        sim = DataStructs.FingerprintSimilarity(sub_mol_fp, mcs_mol_fp)\n",
    "\n",
    "        \n",
    "    except Exception as e:\n",
    "        print(\"...Exception Occurred at {:1}:\".format(Chem.MolToSmiles(mol)))\n",
    "        print(e)\n",
    "        return 0\n",
    "    \n",
    "    print(\"original_mol:\")\n",
    "    display(Draw.MolToImage(mol))\n",
    "    print(\"sub_mol:\")\n",
    "    display(Draw.MolToImage(sub_mol))\n",
    "    print(\"mcs_mol:\")\n",
    "    display(Draw.MolToImage(mcs_mol))\n",
    "\n",
    "    return sim"
   ]
  },
  {
   "cell_type": "code",
   "execution_count": 3,
   "metadata": {},
   "outputs": [
    {
     "ename": "NameError",
     "evalue": "name 'binmols' is not defined",
     "output_type": "error",
     "traceback": [
      "\u001b[1;31m---------------------------------------------------------------------------\u001b[0m",
      "\u001b[1;31mNameError\u001b[0m                                 Traceback (most recent call last)",
      "\u001b[1;32m<ipython-input-3-12d6e9978f03>\u001b[0m in \u001b[0;36m<module>\u001b[1;34m\u001b[0m\n\u001b[0;32m      1\u001b[0m \u001b[0msub_mol\u001b[0m \u001b[1;33m=\u001b[0m \u001b[0mChem\u001b[0m\u001b[1;33m.\u001b[0m\u001b[0mMolFromSmiles\u001b[0m\u001b[1;33m(\u001b[0m\u001b[1;34m\"C1C(C2(=O))C(=O)C=CC2CC1\"\u001b[0m\u001b[1;33m)\u001b[0m\u001b[1;33m\u001b[0m\u001b[1;33m\u001b[0m\u001b[0m\n\u001b[1;32m----> 2\u001b[1;33m \u001b[0mmol\u001b[0m \u001b[1;33m=\u001b[0m \u001b[0mChem\u001b[0m\u001b[1;33m.\u001b[0m\u001b[0mMol\u001b[0m\u001b[1;33m(\u001b[0m\u001b[0mbinmols\u001b[0m\u001b[1;33m[\u001b[0m\u001b[1;36m92435\u001b[0m\u001b[1;33m]\u001b[0m\u001b[1;33m)\u001b[0m\u001b[1;33m\u001b[0m\u001b[1;33m\u001b[0m\u001b[0m\n\u001b[0m\u001b[0;32m      3\u001b[0m \u001b[0mprint\u001b[0m\u001b[1;33m(\u001b[0m\u001b[0mget_sim\u001b[0m\u001b[1;33m(\u001b[0m\u001b[0mmol\u001b[0m\u001b[1;33m,\u001b[0m \u001b[0msub_mol\u001b[0m\u001b[1;33m)\u001b[0m\u001b[1;33m)\u001b[0m\u001b[1;33m\u001b[0m\u001b[1;33m\u001b[0m\u001b[0m\n\u001b[0;32m      4\u001b[0m \u001b[0mDraw\u001b[0m\u001b[1;33m.\u001b[0m\u001b[0mMolToImage\u001b[0m\u001b[1;33m(\u001b[0m\u001b[0msub_mol\u001b[0m\u001b[1;33m)\u001b[0m\u001b[1;33m\u001b[0m\u001b[1;33m\u001b[0m\u001b[0m\n",
      "\u001b[1;31mNameError\u001b[0m: name 'binmols' is not defined"
     ]
    }
   ],
   "source": [
    "sub_mol = Chem.MolFromSmiles(\"C1C(C2(=O))C(=O)C=CC2CC1\")\n",
    "mol = Chem.Mol(binmols[92435])\n",
    "print(get_sim(mol, sub_mol))\n",
    "Draw.MolToImage(sub_mol)"
   ]
  },
  {
   "cell_type": "code",
   "execution_count": 4,
   "metadata": {},
   "outputs": [
    {
     "name": "stdout",
     "output_type": "stream",
     "text": [
      "Warning: unable to load font metrics from dir d:\\Anaconda\\Anaconda3\\envs\\ddc_env\\lib\\site-packages\\rdkit\\sping\\PIL\\pilfonts\n"
     ]
    },
    {
     "ename": "NameError",
     "evalue": "name 'binmols' is not defined",
     "output_type": "error",
     "traceback": [
      "\u001b[1;31m---------------------------------------------------------------------------\u001b[0m",
      "\u001b[1;31mNameError\u001b[0m                                 Traceback (most recent call last)",
      "\u001b[1;32m<ipython-input-4-753249607fb3>\u001b[0m in \u001b[0;36m<module>\u001b[1;34m\u001b[0m\n\u001b[0;32m      3\u001b[0m \u001b[0mDraw\u001b[0m\u001b[1;33m.\u001b[0m\u001b[0mMolToImage\u001b[0m\u001b[1;33m(\u001b[0m\u001b[0msub_mol\u001b[0m\u001b[1;33m)\u001b[0m\u001b[1;33m\u001b[0m\u001b[1;33m\u001b[0m\u001b[0m\n\u001b[0;32m      4\u001b[0m \u001b[1;31m#mol = Chem.MolFromSmiles(\"CC1(C)C(CCC2(C)C1CCC(C34C)(C)C2CC(C)(C4=O)C(C)=C(C(OC)=O)C3=O)=O\")\u001b[0m\u001b[1;33m\u001b[0m\u001b[1;33m\u001b[0m\u001b[1;33m\u001b[0m\u001b[0m\n\u001b[1;32m----> 5\u001b[1;33m \u001b[0mmol\u001b[0m \u001b[1;33m=\u001b[0m \u001b[0mChem\u001b[0m\u001b[1;33m.\u001b[0m\u001b[0mMol\u001b[0m\u001b[1;33m(\u001b[0m\u001b[0mbinmols\u001b[0m\u001b[1;33m[\u001b[0m\u001b[1;36m92435\u001b[0m\u001b[1;33m]\u001b[0m\u001b[1;33m)\u001b[0m\u001b[1;33m\u001b[0m\u001b[1;33m\u001b[0m\u001b[0m\n\u001b[0m\u001b[0;32m      6\u001b[0m \u001b[0mprint\u001b[0m\u001b[1;33m(\u001b[0m\u001b[0mget_sim\u001b[0m\u001b[1;33m(\u001b[0m\u001b[0mmol\u001b[0m\u001b[1;33m,\u001b[0m \u001b[0msub_mol\u001b[0m\u001b[1;33m)\u001b[0m\u001b[1;33m)\u001b[0m\u001b[1;33m\u001b[0m\u001b[1;33m\u001b[0m\u001b[0m\n",
      "\u001b[1;31mNameError\u001b[0m: name 'binmols' is not defined"
     ]
    }
   ],
   "source": [
    "sub_mol = Chem.MolFromSmiles(\"O=C(OC)C1=CC(C2=O)CCCC2C1=O\")\n",
    "#sub_mol = Chem.MolFromSmiles(\"C1C(C2(=O))C(=O)C=CC2CC1\")\n",
    "Draw.MolToImage(sub_mol)\n",
    "#mol = Chem.MolFromSmiles(\"CC1(C)C(CCC2(C)C1CCC(C34C)(C)C2CC(C)(C4=O)C(C)=C(C(OC)=O)C3=O)=O\")\n",
    "mol = Chem.Mol(binmols[92435])\n",
    "print(get_sim(mol, sub_mol))\n"
   ]
  },
  {
   "cell_type": "code",
   "execution_count": 4,
   "metadata": {},
   "outputs": [],
   "source": [
    "#Load HDF5 file\n",
    "#dataset_filename = r\"C:\\Users\\Leave\\OneDrive - hust.edu.cn\\大创\\pcko1-Deep-Drug-Coder-d6e7ef3\\datasets\\CHEMBL25_TRAIN_MOLS.h5\"\n",
    "dataset_filename = r\"../datasets/CHEMBL25_FILTERED_2.h5\"\n",
    "with h5py.File(dataset_filename, \"r\") as f:\n",
    "    binmols = np.asarray(f[\"mols\"])\n",
    "    idxs = np.asarray(f[\"idxs\"])\n",
    "    sims = np.asarray(f[\"sims\"])\n"
   ]
  },
  {
   "cell_type": "code",
   "execution_count": 5,
   "metadata": {},
   "outputs": [],
   "source": [
    "smiles_data = []\n",
    "for idx, binmol in enumerate(binmols):\n",
    "    mol = Chem.Mol(binmol)\n",
    "    smiles = Chem.MolToSmiles(mol)\n",
    "    smiles_data.append(smiles)\n",
    "smiles_data = np.asarray(smiles_data)\n",
    "\n",
    "#sims = [eval(sim) for idx, sim in enumerate(sims)]\n",
    "\n",
    "data = np.asarray([idxs, smiles_data, sims]).T\n"
   ]
  },
  {
   "cell_type": "code",
   "execution_count": 6,
   "metadata": {},
   "outputs": [],
   "source": [
    "pd_data = pd.DataFrame(data, columns=[\"index\", \"smiles\", \"sub_similarity\"], copy=True)\n",
    "#pd_data.sort_values(\"sub_similarity\").tail(20)\n",
    "#len(pd_data.loc[[eval(i)<0.3 for i in pd_data[\"sub_similarity\"]]])\n"
   ]
  },
  {
   "cell_type": "code",
   "execution_count": 11,
   "metadata": {},
   "outputs": [
    {
     "data": {
      "text/plain": [
       "<matplotlib.axes._subplots.AxesSubplot at 0x195e00a2e80>"
      ]
     },
     "execution_count": 11,
     "metadata": {},
     "output_type": "execute_result"
    },
    {
     "data": {
      "image/png": "[encoded data removed]",
      "text/plain": [
       "<Figure size 720x432 with 1 Axes>"
      ]
     },
     "metadata": {
      "needs_background": "light"
     },
     "output_type": "display_data"
    }
   ],
   "source": [
    "# 绘制样品分布\n",
    "pd_data[\"sub_similarity\"].sort_values().hist(bins=25, figsize=(10, 6), xrot=90)\n"
   ]
  },
  {
   "cell_type": "code",
   "execution_count": 12,
   "metadata": {},
   "outputs": [
    {
     "data": {
      "text/html": [
       "<div>\n",
       "<style scoped>\n",
       "    .dataframe tbody tr th:only-of-type {\n",
       "        vertical-align: middle;\n",
       "    }\n",
       "\n",
       "    .dataframe tbody tr th {\n",
       "        vertical-align: top;\n",
       "    }\n",
       "\n",
       "    .dataframe thead th {\n",
       "        text-align: right;\n",
       "    }\n",
       "</style>\n",
       "<table border=\"1\" class=\"dataframe\">\n",
       "  <thead>\n",
       "    <tr style=\"text-align: right;\">\n",
       "      <th></th>\n",
       "      <th>index</th>\n",
       "      <th>smiles</th>\n",
       "      <th>sub_similarity</th>\n",
       "    </tr>\n",
       "  </thead>\n",
       "  <tbody>\n",
       "    <tr>\n",
       "      <td>5583</td>\n",
       "      <td>618848</td>\n",
       "      <td>O=C(COC(=O)C1CC2CCCC(C1)C2=O)NNC(=O)c1ccc([N+]...</td>\n",
       "      <td>0.5238095238095238</td>\n",
       "    </tr>\n",
       "    <tr>\n",
       "      <td>4791</td>\n",
       "      <td>523199</td>\n",
       "      <td>CC(=O)Nc1ccc(C(=O)COC(=O)C2CC3CCCC(C2)C3=O)cc1</td>\n",
       "      <td>0.5238095238095238</td>\n",
       "    </tr>\n",
       "    <tr>\n",
       "      <td>6658</td>\n",
       "      <td>736684</td>\n",
       "      <td>Cc1[nH]c(=NC(=O)COC(=O)C2CC3CCCC(C2)C3=O)c(Cl)...</td>\n",
       "      <td>0.5238095238095238</td>\n",
       "    </tr>\n",
       "    <tr>\n",
       "      <td>11045</td>\n",
       "      <td>1229345</td>\n",
       "      <td>N#CCN(C(=O)COC(=O)C1CC2CCCC(C1)C2=O)c1ccccc1</td>\n",
       "      <td>0.5238095238095238</td>\n",
       "    </tr>\n",
       "    <tr>\n",
       "      <td>3935</td>\n",
       "      <td>427969</td>\n",
       "      <td>CNS(=O)(=O)NC(=O)c1cc(Cl)c(OC2C3CC4CC2CC(C(=O)...</td>\n",
       "      <td>0.5238095238095238</td>\n",
       "    </tr>\n",
       "    <tr>\n",
       "      <td>5786</td>\n",
       "      <td>637990</td>\n",
       "      <td>COC(=O)c1ccc(C)c(NC(=O)COC(=O)C2CC3CCCC(C2)C3=...</td>\n",
       "      <td>0.5238095238095238</td>\n",
       "    </tr>\n",
       "    <tr>\n",
       "      <td>654</td>\n",
       "      <td>71471</td>\n",
       "      <td>CN(CC(=O)Nc1ccc(Cl)c(C(F)(F)F)c1)C(=O)COC(=O)C...</td>\n",
       "      <td>0.5238095238095238</td>\n",
       "    </tr>\n",
       "    <tr>\n",
       "      <td>6043</td>\n",
       "      <td>668666</td>\n",
       "      <td>COc1ccc(OC)c(C(=O)COC(=O)C2CC3CCCC(C2)C3=O)c1</td>\n",
       "      <td>0.5238095238095238</td>\n",
       "    </tr>\n",
       "    <tr>\n",
       "      <td>3009</td>\n",
       "      <td>323487</td>\n",
       "      <td>COc1cccc(NC(=O)COC(=O)C2CC3CCCC(C2)C3=O)c1</td>\n",
       "      <td>0.5238095238095238</td>\n",
       "    </tr>\n",
       "    <tr>\n",
       "      <td>6045</td>\n",
       "      <td>669347</td>\n",
       "      <td>Cc1cc(C)c(C(=O)COC(=O)C2CC3CCCC(C2)C3=O)c(C)c1</td>\n",
       "      <td>0.5238095238095238</td>\n",
       "    </tr>\n",
       "    <tr>\n",
       "      <td>7488</td>\n",
       "      <td>830531</td>\n",
       "      <td>CC1(C)C(=O)C2CC34OC2(O)C2(COC(=O)CC12)C3CCC1(C...</td>\n",
       "      <td>0.5405405405405406</td>\n",
       "    </tr>\n",
       "    <tr>\n",
       "      <td>6007</td>\n",
       "      <td>666217</td>\n",
       "      <td>CCCC(CC(=O)O)C1=C2OC(C(C)(C)O)CC23CC(CC=C(C)C)...</td>\n",
       "      <td>0.5853658536585366</td>\n",
       "    </tr>\n",
       "    <tr>\n",
       "      <td>11467</td>\n",
       "      <td>1277020</td>\n",
       "      <td>CCCC(CC(=O)O)C1=C2OC(C(C)(C)O)CC23CC(CC(O)C(C)...</td>\n",
       "      <td>0.5853658536585366</td>\n",
       "    </tr>\n",
       "    <tr>\n",
       "      <td>4651</td>\n",
       "      <td>508393</td>\n",
       "      <td>CC(C)=CCCC1(C)C(CC=C(C)C)CC2(CC=C(C)C)C(=O)C(C...</td>\n",
       "      <td>0.6410256410256411</td>\n",
       "    </tr>\n",
       "    <tr>\n",
       "      <td>135</td>\n",
       "      <td>16008</td>\n",
       "      <td>CC(C)=CCCC1(C)c2c(O)c(c(O)c(C(=O)C(C)C)c2O)CC1...</td>\n",
       "      <td>0.6410256410256411</td>\n",
       "    </tr>\n",
       "    <tr>\n",
       "      <td>5530</td>\n",
       "      <td>613232</td>\n",
       "      <td>CC(C)=CCC1CC2(CC=C(C)C)C(=O)C(C(=O)CC(C)C)C(=O...</td>\n",
       "      <td>0.6410256410256411</td>\n",
       "    </tr>\n",
       "    <tr>\n",
       "      <td>7865</td>\n",
       "      <td>874235</td>\n",
       "      <td>C=C(CC1(C(=O)OC)CC2(CC=C(C)C)C(=O)C(C(=O)CC(C)...</td>\n",
       "      <td>0.6410256410256411</td>\n",
       "    </tr>\n",
       "    <tr>\n",
       "      <td>7664</td>\n",
       "      <td>853269</td>\n",
       "      <td>CCCCC(C(=O)OC)C12C(=O)C(C(=O)CCC)C(=O)C(CC=C(C...</td>\n",
       "      <td>0.6410256410256411</td>\n",
       "    </tr>\n",
       "    <tr>\n",
       "      <td>5837</td>\n",
       "      <td>645407</td>\n",
       "      <td>COC(=O)C1CC2(CC=C(C)C)C(=O)C(CC=C(C)C)(C(=O)C(...</td>\n",
       "      <td>0.7368421052631579</td>\n",
       "    </tr>\n",
       "    <tr>\n",
       "      <td>11432</td>\n",
       "      <td>1271154</td>\n",
       "      <td>COC1=C(C(=O)c2ccccc2)C(=O)C2(CC=C(C)C)CC(C(=O)...</td>\n",
       "      <td>0.7368421052631579</td>\n",
       "    </tr>\n",
       "  </tbody>\n",
       "</table>\n",
       "</div>"
      ],
      "text/plain": [
       "         index                                             smiles  \\\n",
       "5583    618848  O=C(COC(=O)C1CC2CCCC(C1)C2=O)NNC(=O)c1ccc([N+]...   \n",
       "4791    523199     CC(=O)Nc1ccc(C(=O)COC(=O)C2CC3CCCC(C2)C3=O)cc1   \n",
       "6658    736684  Cc1[nH]c(=NC(=O)COC(=O)C2CC3CCCC(C2)C3=O)c(Cl)...   \n",
       "11045  1229345       N#CCN(C(=O)COC(=O)C1CC2CCCC(C1)C2=O)c1ccccc1   \n",
       "3935    427969  CNS(=O)(=O)NC(=O)c1cc(Cl)c(OC2C3CC4CC2CC(C(=O)...   \n",
       "5786    637990  COC(=O)c1ccc(C)c(NC(=O)COC(=O)C2CC3CCCC(C2)C3=...   \n",
       "654      71471  CN(CC(=O)Nc1ccc(Cl)c(C(F)(F)F)c1)C(=O)COC(=O)C...   \n",
       "6043    668666      COc1ccc(OC)c(C(=O)COC(=O)C2CC3CCCC(C2)C3=O)c1   \n",
       "3009    323487         COc1cccc(NC(=O)COC(=O)C2CC3CCCC(C2)C3=O)c1   \n",
       "6045    669347     Cc1cc(C)c(C(=O)COC(=O)C2CC3CCCC(C2)C3=O)c(C)c1   \n",
       "7488    830531  CC1(C)C(=O)C2CC34OC2(O)C2(COC(=O)CC12)C3CCC1(C...   \n",
       "6007    666217  CCCC(CC(=O)O)C1=C2OC(C(C)(C)O)CC23CC(CC=C(C)C)...   \n",
       "11467  1277020  CCCC(CC(=O)O)C1=C2OC(C(C)(C)O)CC23CC(CC(O)C(C)...   \n",
       "4651    508393  CC(C)=CCCC1(C)C(CC=C(C)C)CC2(CC=C(C)C)C(=O)C(C...   \n",
       "135      16008  CC(C)=CCCC1(C)c2c(O)c(c(O)c(C(=O)C(C)C)c2O)CC1...   \n",
       "5530    613232  CC(C)=CCC1CC2(CC=C(C)C)C(=O)C(C(=O)CC(C)C)C(=O...   \n",
       "7865    874235  C=C(CC1(C(=O)OC)CC2(CC=C(C)C)C(=O)C(C(=O)CC(C)...   \n",
       "7664    853269  CCCCC(C(=O)OC)C12C(=O)C(C(=O)CCC)C(=O)C(CC=C(C...   \n",
       "5837    645407  COC(=O)C1CC2(CC=C(C)C)C(=O)C(CC=C(C)C)(C(=O)C(...   \n",
       "11432  1271154  COC1=C(C(=O)c2ccccc2)C(=O)C2(CC=C(C)C)CC(C(=O)...   \n",
       "\n",
       "           sub_similarity  \n",
       "5583   0.5238095238095238  \n",
       "4791   0.5238095238095238  \n",
       "6658   0.5238095238095238  \n",
       "11045  0.5238095238095238  \n",
       "3935   0.5238095238095238  \n",
       "5786   0.5238095238095238  \n",
       "654    0.5238095238095238  \n",
       "6043   0.5238095238095238  \n",
       "3009   0.5238095238095238  \n",
       "6045   0.5238095238095238  \n",
       "7488   0.5405405405405406  \n",
       "6007   0.5853658536585366  \n",
       "11467  0.5853658536585366  \n",
       "4651   0.6410256410256411  \n",
       "135    0.6410256410256411  \n",
       "5530   0.6410256410256411  \n",
       "7865   0.6410256410256411  \n",
       "7664   0.6410256410256411  \n",
       "5837   0.7368421052631579  \n",
       "11432  0.7368421052631579  "
      ]
     },
     "execution_count": 12,
     "metadata": {},
     "output_type": "execute_result"
    }
   ],
   "source": [
    "pd_data.sort_values(\"sub_similarity\").tail(20)"
   ]
  },
  {
   "cell_type": "code",
   "execution_count": 13,
   "metadata": {},
   "outputs": [
    {
     "data": {
      "text/plain": [
       "12113"
      ]
     },
     "execution_count": 13,
     "metadata": {},
     "output_type": "execute_result"
    }
   ],
   "source": [
    "len(pd_data)"
   ]
  }
 ],
 "metadata": {
  "kernelspec": {
   "display_name": "Python 3.6.7 ('ddc_env')",
   "language": "python",
   "name": "python3"
  },
  "language_info": {
   "codemirror_mode": {
    "name": "ipython",
    "version": 3
   },
   "file_extension": ".py",
   "mimetype": "text/x-python",
   "name": "python",
   "nbconvert_exporter": "python",
   "pygments_lexer": "ipython3",
   "version": "3.6.7"
  },
  "orig_nbformat": 4,
  "vscode": {
   "interpreter": {
    "hash": "e78e90599c5fb8f980b5b4db672a9b193d0d2d67500e6742a058ef0e4774177f"
   }
  }
 },
 "nbformat": 4,
 "nbformat_minor": 2
}
