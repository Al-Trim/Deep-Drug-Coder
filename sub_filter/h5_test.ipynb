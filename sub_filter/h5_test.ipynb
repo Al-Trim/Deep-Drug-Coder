{
 "cells": [
  {
   "cell_type": "code",
   "execution_count": 1,
   "metadata": {},
   "outputs": [],
   "source": [
    "import imp\n",
    "import rdkit, h5py\n",
    "from rdkit import Chem\n",
    "from rdkit.Chem import rdFMCS,AllChem,Draw\n",
    "from rdkit import DataStructs\n",
    "\n",
    "import numpy as np\n",
    "import pandas as pd\n"
   ]
  },
  {
   "cell_type": "code",
   "execution_count": 2,
   "metadata": {},
   "outputs": [],
   "source": [
    "#Load HDF5 file\n",
    "dataset_filename = r\"C:\\Users\\Leave\\OneDrive - hust.edu.cn\\大创\\pcko1-Deep-Drug-Coder-d6e7ef3\\datasets\\CHEMBL25_TRAIN_MOLS.h5\"\n",
    "#dataset_filename = r\"datasets/CHEMBL25_FILTERED_1.h5\"\n",
    "with h5py.File(dataset_filename, \"r\") as f:\n",
    "    binmols = np.asarray(f[\"mols\"])\n",
    "    #idxs = np.asarray(f[\"idxs\"])\n",
    "    #sims = np.asarray(f[\"sims\"])\n"
   ]
  },
  {
   "cell_type": "code",
   "execution_count": 4,
   "metadata": {},
   "outputs": [
    {
     "data": {
      "image/png": "[encoded data removed]",
      "text/plain": [
       "<PIL.Image.Image image mode=RGB size=300x300 at 0x16B8473BBE0>"
      ]
     },
     "metadata": {},
     "output_type": "display_data"
    },
    {
     "data": {
      "image/png": "[encoded data removed]",
      "text/plain": [
       "<PIL.Image.Image image mode=RGB size=300x300 at 0x16BE5BA1C18>"
      ]
     },
     "metadata": {},
     "output_type": "display_data"
    }
   ],
   "source": [
    "display(Draw.MolToImage(Chem.Mol(binmols[289256])))\n",
    "display(Draw.MolToImage(Chem.Mol(binmols[1271154])))"
   ]
  },
  {
   "cell_type": "code",
   "execution_count": 8,
   "metadata": {},
   "outputs": [
    {
     "name": "stdout",
     "output_type": "stream",
     "text": [
      "original_mol:\n"
     ]
    },
    {
     "data": {
      "image/png": "[encoded data removed]",
      "text/plain": [
       "<PIL.Image.Image image mode=RGB size=300x300 at 0x1AEE84C50F0>"
      ]
     },
     "metadata": {},
     "output_type": "display_data"
    },
    {
     "name": "stdout",
     "output_type": "stream",
     "text": [
      "sub_mol:\n"
     ]
    },
    {
     "data": {
      "image/png": "[encoded data removed]",
      "text/plain": [
       "<PIL.Image.Image image mode=RGB size=300x300 at 0x1AEE84BCE80>"
      ]
     },
     "metadata": {},
     "output_type": "display_data"
    },
    {
     "name": "stdout",
     "output_type": "stream",
     "text": [
      "mcs_mol:\n"
     ]
    },
    {
     "data": {
      "image/png": "[encoded data removed]",
      "text/plain": [
       "<PIL.Image.Image image mode=RGB size=300x300 at 0x1AEE84C50F0>"
      ]
     },
     "metadata": {},
     "output_type": "display_data"
    },
    {
     "name": "stdout",
     "output_type": "stream",
     "text": [
      "0.7368421052631579\n"
     ]
    }
   ],
   "source": [
    "def get_sim(mol, sub_mol) -> float: \n",
    "    try:\n",
    "        res = rdFMCS.FindMCS([mol, sub_mol], timeout=1, bondCompare=rdFMCS.BondCompare.CompareAny, ringMatchesRingOnly=True, atomCompare=rdFMCS.AtomCompare.CompareAny)\n",
    "        if res.smartsString == \"\" or res.canceled:\n",
    "            return 0\n",
    "        mcs_mol = Chem.MolFromSmarts(res.smartsString)\n",
    "        Chem.SanitizeMol(mcs_mol)\n",
    "\n",
    "        mcs_mol_fp = AllChem.GetMorganFingerprintAsBitVect(mcs_mol, 2, nBits=2048)\n",
    "        sub_mol_fp = AllChem.GetMorganFingerprintAsBitVect(sub_mol, 2, nBits=2048)\n",
    "        sim = DataStructs.FingerprintSimilarity(sub_mol_fp, mcs_mol_fp)\n",
    "\n",
    "        \n",
    "    except Exception as e:\n",
    "        print(\"...Exception Occurred at {:1}:\".format(Chem.MolToSmiles(mol)))\n",
    "        print(e)\n",
    "        return 0\n",
    "    \n",
    "    print(\"original_mol:\")\n",
    "    display(Draw.MolToImage(mol))\n",
    "    print(\"sub_mol:\")\n",
    "    display(Draw.MolToImage(sub_mol))\n",
    "    print(\"mcs_mol:\")\n",
    "    display(Draw.MolToImage(mcs_mol))\n",
    "\n",
    "    return sim\n",
    "\n",
    "sub_mol = Chem.MolFromSmiles(\"O=C(OC)C1=CC(C2=O)CCCC2C1=O\")\n",
    "mol = Chem.Mol(binmols[645407])\n",
    "print(get_sim(mol, sub_mol))\n"
   ]
  },
  {
   "cell_type": "code",
   "execution_count": 7,
   "metadata": {},
   "outputs": [
    {
     "data": {
      "image/png": "[encoded data removed]",
      "text/plain": [
       "<PIL.Image.Image image mode=RGB size=300x300 at 0x1AEE8680F60>"
      ]
     },
     "execution_count": 7,
     "metadata": {},
     "output_type": "execute_result"
    }
   ],
   "source": [
    "Chem.Draw.MolToImage(Chem.Mol(Chem.MolFromSmiles(\"C1C(C2(=O))C(=O)C=CC2CC1\")))"
   ]
  }
 ],
 "metadata": {
  "kernelspec": {
   "display_name": "Python 3.6.7 ('ddc_env')",
   "language": "python",
   "name": "python3"
  },
  "language_info": {
   "codemirror_mode": {
    "name": "ipython",
    "version": 3
   },
   "file_extension": ".py",
   "mimetype": "text/x-python",
   "name": "python",
   "nbconvert_exporter": "python",
   "pygments_lexer": "ipython3",
   "version": "3.6.7"
  },
  "orig_nbformat": 4,
  "vscode": {
   "interpreter": {
    "hash": "e78e90599c5fb8f980b5b4db672a9b193d0d2d67500e6742a058ef0e4774177f"
   }
  }
 },
 "nbformat": 4,
 "nbformat_minor": 2
}
