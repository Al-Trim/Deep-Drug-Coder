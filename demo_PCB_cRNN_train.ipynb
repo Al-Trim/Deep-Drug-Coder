{
 "nbformat": 4,
 "nbformat_minor": 2,
 "metadata": {
  "language_info": {
   "name": "python",
   "codemirror_mode": {
    "name": "ipython",
    "version": 3
   },
   "version": "3.6.8-final"
  },
  "orig_nbformat": 2,
  "file_extension": ".py",
  "mimetype": "text/x-python",
  "name": "python",
  "npconvert_exporter": "python",
  "pygments_lexer": "ipython3",
  "version": 3,
  "kernelspec": {
   "name": "ddc_env_final",
   "display_name": "ddc_env_final"
  }
 },
 "cells": [
  {
   "cell_type": "code",
   "execution_count": 17,
   "metadata": {},
   "outputs": [
    {
     "name": "stdout",
     "output_type": "stream",
     "text": "The autoreload extension is already loaded. To reload it, use:\n  %reload_ext autoreload\nenv: CUDA_DEVICE_ORDER=PCI_BUS_ID\nenv: CUDA_VISIBLE_DEVICES=0\n"
    }
   ],
   "source": [
    "%load_ext autoreload\n",
    "%autoreload 2\n",
    "# Occupy a GPU for the model to be loaded \n",
    "%env CUDA_DEVICE_ORDER=PCI_BUS_ID\n",
    "# GPU ID, if occupied change to an available GPU ID listed under !nvidia-smi\n",
    "%env CUDA_VISIBLE_DEVICES=0\n",
    "\n",
    "import numpy as np\n",
    "import rdkit\n",
    "from rdkit import Chem\n",
    "import h5py, ast, pickle\n",
    "\n",
    "from ddc_pub import ddc_v3 as ddc"
   ]
  },
  {
   "cell_type": "code",
   "execution_count": 18,
   "metadata": {},
   "outputs": [],
   "source": [
    "def get_descriptors(binmols_list, qsar_model=None):\n",
    "    \"\"\"Calculate molecular descriptors of SMILES in a list.\n",
    "    The descriptors are logp, tpsa, mw, qed, hba, hbd and probability of being active towards DRD2.\n",
    "    \n",
    "    Returns:\n",
    "        A np.ndarray of descriptors.\n",
    "    \"\"\"\n",
    "    from tqdm import tqdm_notebook as tqdm\n",
    "    import rdkit\n",
    "    from rdkit import Chem, DataStructs\n",
    "    from rdkit.Chem import Descriptors, rdMolDescriptors, AllChem, QED\n",
    "    \n",
    "    descriptors = []\n",
    "    active_mols = []\n",
    "    \n",
    "    for idx, binmol in enumerate(binmols_list):\n",
    "        # Convert to mol\n",
    "        mol = Chem.Mol(binmol)\n",
    "        # If valid, calculate its properties\n",
    "        if mol:\n",
    "            try:\n",
    "                logp  = Descriptors.MolLogP(mol)\n",
    "                tpsa  = Descriptors.TPSA(mol)\n",
    "                molwt = Descriptors.ExactMolWt(mol)\n",
    "                hba   = rdMolDescriptors.CalcNumHBA(mol)\n",
    "                hbd   = rdMolDescriptors.CalcNumHBD(mol)\n",
    "                qed   = QED.qed(mol)\n",
    "                \n",
    "                # Calculate fingerprints\n",
    "                fp = AllChem.GetMorganFingerprintAsBitVect(mol,2, nBits=2048)\n",
    "                ecfp4 = np.zeros((2048,))\n",
    "                DataStructs.ConvertToNumpyArray(fp, ecfp4) \n",
    "                # Predict activity and pick only the second component\n",
    "                active = qsar_model.predict_proba([ecfp4])[0][1]\n",
    "                descriptors.append([logp, tpsa, molwt, qed, hba, hbd, active]) \n",
    "                \n",
    "            except Exception as e:\n",
    "                print(e)\n",
    "        # Else, return None\n",
    "        else:\n",
    "            print(\"Invalid generation.\")\n",
    "            \n",
    "    return np.asarray(descriptors)"
   ]
  },
  {
   "cell_type": "code",
   "execution_count": 19,
   "metadata": {},
   "outputs": [],
   "source": [
    "# Load QSAR model\n",
    "qsar_model_name = \"models/qsar_model.pickle\"\n",
    "with open(qsar_model_name, \"rb\") as file:\n",
    "    qsar_model = pickle.load(file)[\"classifier_sv\"]"
   ]
  },
  {
   "cell_type": "code",
   "execution_count": 20,
   "metadata": {},
   "outputs": [],
   "source": [
    "# Load dataset\n",
    "dataset_filename = \"datasets/CHEMBL25_TRAIN_MOLS.h5\"\n",
    "with h5py.File(dataset_filename, \"r\") as f:\n",
    "    binmols = f[\"mols\"][:]"
   ]
  },
  {
   "cell_type": "code",
   "execution_count": 21,
   "metadata": {},
   "outputs": [],
   "source": [
    "descr = get_descriptors(binmols[:2000], qsar_model=qsar_model)"
   ]
  },
  {
   "cell_type": "code",
   "execution_count": 22,
   "metadata": {},
   "outputs": [],
   "source": [
    "# A priori known charset for the SMILES in the dataset\n",
    "charset = \"Brc1(-23[nH])45C=NOso#FlS67+89%0\"\n",
    "# A priori known max length for the SMILES in the dataset\n",
    "maxlen = 128\n",
    "# Name for the dataset\n",
    "name = \"ChEMBL25_TRAIN\"\n",
    "\n",
    "dataset_info = {\"charset\": charset, \"maxlen\": maxlen, \"name\": name}"
   ]
  },
  {
   "cell_type": "code",
   "execution_count": 23,
   "metadata": {},
   "outputs": [
    {
     "name": "stdout",
     "output_type": "stream",
     "text": "Initializing model in train mode.\nInput type is 'molecular descriptors'.\nApplying scaling on input.\nIgnoring requested codelayer_dim because it is inferred from the cardinality of the descriptors.\nModel received 1800 train samples and 200 validation samples.\nModel: \"model_2\"\n__________________________________________________________________________________________________\nLayer (type)                    Output Shape         Param #     Connected to                     \n==================================================================================================\nLatent_Input (InputLayer)       [(None, 7)]          0                                            \n__________________________________________________________________________________________________\nDecoder_Inputs (InputLayer)     [(None, 142, 35)]    0                                            \n__________________________________________________________________________________________________\nlatent_to_states_model (Model)  [(None, 512), (None, 36864       Latent_Input[0][0]               \n__________________________________________________________________________________________________\nbatch_model (Model)             (None, 142, 35)      5350947     Decoder_Inputs[0][0]             \n                                                                 latent_to_states_model[1][0]     \n                                                                 latent_to_states_model[1][1]     \n                                                                 latent_to_states_model[1][2]     \n                                                                 latent_to_states_model[1][3]     \n                                                                 latent_to_states_model[1][4]     \n                                                                 latent_to_states_model[1][5]     \n==================================================================================================\nTotal params: 5,387,811\nTrainable params: 5,378,595\nNon-trainable params: 9,216\n__________________________________________________________________________________________________\nNone\n"
    }
   ],
   "source": [
    "# Initialize a model\n",
    "model = ddc.DDC(x              = descr,\n",
    "                y              = binmols[:2000],\n",
    "                dataset_info   = dataset_info,\n",
    "                scaling        = True,\n",
    "                noise_std      = 0.1,\n",
    "                lstm_dim       = 512,\n",
    "                dec_layers     = 3,\n",
    "                td_dense_dim   = 0,\n",
    "                batch_size     = 128,\n",
    "                codelayer_dim  = -1)\n",
    "\n"
   ]
  },
  {
   "cell_type": "code",
   "execution_count": null,
   "metadata": {},
   "outputs": [],
   "source": []
  },
  {
   "cell_type": "code",
   "execution_count": null,
   "metadata": {},
   "outputs": [],
   "source": []
  }
 ]
}