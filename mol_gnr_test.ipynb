{
 "cells": [
  {
   "cell_type": "code",
   "execution_count": 7,
   "metadata": {},
   "outputs": [],
   "source": [
    "#生成少一个侧链的分子\n",
    "\n",
    "import numpy as np\n",
    "import pickle\n",
    "\n",
    "from ddc_pub import ddc_v3 as ddc\n",
    "import molvecgen\n",
    "import rdkit, h5py\n",
    "\n",
    "from rdkit import Chem, DataStructs\n",
    "from rdkit.Chem import Descriptors, rdMolDescriptors, AllChem, QED, rdFMCS\n",
    "from rdkit import rdBase\n",
    "import pandas as pd\n",
    "\n",
    "class mol_generator:\n",
    "    def __init__(self, seed_smile: str = \"\", sub_smile:str = \"\", model: str = \"\", qsar_model: str = \"\"):\n",
    "        self.mols = []\n",
    "        self.target = []\n",
    "        self.target_names = [\"logp\", \"tpsa\", \"sub_similarity\", \"qed\", \"hba\", \"hbd\"]\n",
    "        self.sani_mols = []\n",
    "        self.sani_properties = []\n",
    "        self.data = None\n",
    "        self.set_seed(seed_smile)\n",
    "        self.set_sub(sub_smile)\n",
    "        self.set_model(model)\n",
    "        self.set_qsar_model(qsar_model)\n",
    "\n",
    "    def set_seed(self, seed_smile):\n",
    "        if(seed_smile == \"\"):\n",
    "            return\n",
    "        #self.seed_smile = seed_smile\n",
    "        self.seed_mol = Chem.MolFromSmiles(seed_smile)\n",
    "\n",
    "        print(\"Seed Molecular:\")\n",
    "        print(Chem.MolToSmiles(self.seed_mol))\n",
    "\n",
    "    def set_sub(self, sub_smile):\n",
    "        if(sub_smile == \"\"):\n",
    "            return\n",
    "        self.sub_mol = Chem.MolFromSmiles(sub_smile)\n",
    "\n",
    "        print(\"Substruct:\")\n",
    "        print(Chem.MolToSmiles(self.sub_mol))\n",
    "\n",
    "    def set_model(self, model):\n",
    "        if(model == \"\"):\n",
    "            return\n",
    "        self.model = ddc.DDC(model_name=model)\n",
    "\n",
    "    def set_qsar_model(self, qsar_model):\n",
    "        if(qsar_model == \"\"):\n",
    "            return\n",
    "        self.qsar_model = pickle.load(open(qsar_model, \"rb\"))[\"classifier_sv\"]\n",
    "\n",
    "    #Calculate the similarity between the aimed substructure and generated mol\n",
    "    def get_sim(self, mol, sub_mol) -> float: \n",
    "        try:\n",
    "            res = rdFMCS.FindMCS([mol, sub_mol], timeout=1, bondCompare=rdFMCS.BondCompare.CompareAny, ringMatchesRingOnly=True, atomCompare=rdFMCS.AtomCompare.CompareAny)\n",
    "            if res.smartsString == \"\" or res.canceled:\n",
    "                return 0\n",
    "            mcs_mol = Chem.MolFromSmarts(res.smartsString)\n",
    "            Chem.SanitizeMol(mcs_mol)\n",
    "\n",
    "            mcs_mol_fp = AllChem.GetMorganFingerprintAsBitVect(mcs_mol, 2, nBits=2048)\n",
    "            sub_mol_fp = AllChem.GetMorganFingerprintAsBitVect(sub_mol, 2, nBits=2048)\n",
    "            sim = DataStructs.FingerprintSimilarity(sub_mol_fp, mcs_mol_fp)\n",
    "\n",
    "            return sim\n",
    "        except Exception as e:\n",
    "            print(\"...Exception Occurred at {:1}:\".format(Chem.MolToSmiles(mol)))\n",
    "            print(e)\n",
    "            return 0\n",
    "\n",
    "    def get_descriptors(self, mol):\n",
    "        logp = Descriptors.MolLogP(mol)\n",
    "        tpsa = Descriptors.TPSA(mol)\n",
    "        sim = self.get_sim(mol, self.sub_mol)\n",
    "        hba = rdMolDescriptors.CalcNumHBA(mol)\n",
    "        hbd = rdMolDescriptors.CalcNumHBD(mol)\n",
    "        qed = QED.qed(mol)\n",
    "        \n",
    "        return [logp, tpsa, sim, qed, hba, hbd]\n",
    "\n",
    "    def sanitize(self, mol):  # 检查分子\n",
    "        try:\n",
    "            Chem.SanitizeMol(mol)\n",
    "            return mol\n",
    "        except Exception as e:\n",
    "            pass\n",
    "            #print(e)\n",
    "\n",
    "    # 采样指定性质的分子\n",
    "    def sample(self, sample_times: int = 4, conditions: list = [None]*6):\n",
    "        # 确定目标\n",
    "        #assert len(conditions) >= 7\n",
    "        self.target = self.get_descriptors(self.seed_mol)\n",
    "        for i in range(len(conditions)):\n",
    "            if(conditions[i] != None):\n",
    "                self.target[i] = conditions[i]\n",
    "        self.target = np.array(self.target)\n",
    "        print(\"target:{:}\".format(self.target))\n",
    "        # 采样\n",
    "        smiles_out = []\n",
    "        self.model.batch_input_length = 256  # 太大会减慢速度\n",
    "        for i in range(sample_times):\n",
    "            smiles, _ = self.model.predict_batch(latent=self.target.reshape(1, -1), temp=1.0)\n",
    "            smiles_out.append(smiles)\n",
    "        smiles_out = np.concatenate(smiles_out)\n",
    "        self.mols = [Chem.MolFromSmiles(smi) for smi in smiles_out]\n",
    "        # 检查分子\n",
    "        self.sani_mols.clear()\n",
    "        self.sani_properties.clear()\n",
    "        for mol in self.mols:\n",
    "            if(mol != None):\n",
    "                self.sani_mols.append(self.sanitize(mol))\n",
    "        for mol in self.sani_mols:\n",
    "            if(mol != None):\n",
    "                self.sani_properties.append(self.get_descriptors(mol))\n",
    "        # 打印结果\n",
    "        print(\"生成分子数:{:},有效性:{:}\".format(\n",
    "            len(self.mols), len(self.sani_mols)/len(self.mols)))\n",
    "\n",
    "    # 根据id显示生成的分子\n",
    "    def showmol(self, i):  \n",
    "        print(Chem.MolToSmiles(self.sani_mols[i]))\n",
    "\n",
    "    #筛选sub_similarity==1的分子\n",
    "    def filter_data(self, filename: str=\"\"):\n",
    "        #筛选结果\n",
    "        self.binmols = [[i.ToBinary() for i in self.sani_mols]]\n",
    "        self.data = np.concatenate([np.asarray(self.binmols).T, self.sani_properties])\n",
    "        self.dataframe = pd.DataFrame(self.data, columns=[\"binmol\"]+self.target_names, copy=True)\n",
    "        self.filtered_data = self.dataframe.loc[[eval(i)==1 for i in self.dataframe[\"sub_similarity\"]]]\n",
    "        print(self.filtered_data.head(5))\n",
    "        #保存文件\n",
    "        with h5py.File(filename, \"w\") as f:\n",
    "            f.create_dataset(\"mols\", data=np.asarray(self.filtered_data[\"binmol\"]))\n",
    "\n"
   ]
  },
  {
   "cell_type": "code",
   "execution_count": 2,
   "metadata": {},
   "outputs": [
    {
     "name": "stdout",
     "output_type": "stream",
     "text": [
      "Substruct:\n",
      "O=C1C=CC2CCCC1C2=O\n",
      "Seed Molecular:\n",
      "COC(=O)C1=C(C)C2(C)CC3C4(C)CCC(=O)C(C)(C)C4CCC3(C)C(C)(C1=O)C2=O\n",
      "Initializing model in test mode.\n",
      "Loading model.\n",
      "'mol_to_latent_model' not found, setting to None.\n",
      "WARNING:tensorflow:No training configuration found in save file: the model was *not* compiled. Compile it manually.\n",
      "WARNING:tensorflow:No training configuration found in save file: the model was *not* compiled. Compile it manually.\n",
      "Loading finished in 4 seconds.\n",
      "Model: \"model\"\n",
      "__________________________________________________________________________________________________\n",
      "Layer (type)                    Output Shape         Param #     Connected to                     \n",
      "==================================================================================================\n",
      "Latent_Input (InputLayer)       [(None, 6)]          0                                            \n",
      "__________________________________________________________________________________________________\n",
      "Decoder_Inputs (InputLayer)     [(None, 142, 35)]    0                                            \n",
      "__________________________________________________________________________________________________\n",
      "latent_to_states_model (Model)  [(None, 512), (None, 33792       Latent_Input[0][0]               \n",
      "__________________________________________________________________________________________________\n",
      "batch_model (Model)             (None, 142, 35)      5350947     Decoder_Inputs[0][0]             \n",
      "                                                                 latent_to_states_model[1][0]     \n",
      "                                                                 latent_to_states_model[1][1]     \n",
      "                                                                 latent_to_states_model[1][2]     \n",
      "                                                                 latent_to_states_model[1][3]     \n",
      "                                                                 latent_to_states_model[1][4]     \n",
      "                                                                 latent_to_states_model[1][5]     \n",
      "==================================================================================================\n",
      "Total params: 5,384,739\n",
      "Trainable params: 5,375,523\n",
      "Non-trainable params: 9,216\n",
      "__________________________________________________________________________________________________\n",
      "None\n",
      "target:[ 4.4719     77.51        1.          0.34974601  5.          0.        ]\n",
      "生成分子数:1024,有效性:0.8427734375\n"
     ]
    }
   ],
   "source": [
    "rdBase.DisableLog(\"rdApp.*\")\n",
    "\n",
    "#创建生成器\n",
    "generator_1 = mol_generator(sub_smile=\"C1C(C2(=O))C(=O)C=CC2CC1\") \n",
    "\n",
    "#设置种子\n",
    "#generator_1.set_seed(\"CN(C)CCCN1C2=CC=CC=C2SC3=C1C=C(C=C3)Cl\") \n",
    "#generator_1.set_seed(\"CC1(C)C(CC[C@@]2(C)[C@@]1([H])CC[C@@]([C@@]34C)(C)[C@]2([H])C[C@@](C)(C4=O)C(C)=C(C(OC)=O)C3=O)=O\")\n",
    "generator_1.set_seed(\"CC1(C)C(CCC2(C)C1CCC(C34C)(C)C2CC(C)(C4=O)C(C)=C(C(OC)=O)C3=O)=O\")\n",
    "#generator_1.set_sub(\"O=C(OC)C1=CC(C2=O)CCCC2C1=O\")\n",
    "\n",
    "#设置生成模型\n",
    "generator_1.set_model(\"models/model_0808\") \n",
    "\n",
    "#设置QSAR模型\n",
    "#generator_1.set_qsar_model(\"models/qsar_model.pickle\") \n",
    "\n",
    "#采样/生成\n",
    "generator_1.sample(4)\n"
   ]
  },
  {
   "cell_type": "code",
   "execution_count": null,
   "metadata": {},
   "outputs": [],
   "source": [
    "#筛选结果\n",
    "binmols = [[i.ToBinary() for i in generator_1.sani_mols]]\n",
    "np.shape(binmols.T)"
   ]
  },
  {
   "cell_type": "code",
   "execution_count": 11,
   "metadata": {},
   "outputs": [
    {
     "data": {
      "text/plain": [
       "(880, 6)"
      ]
     },
     "execution_count": 11,
     "metadata": {},
     "output_type": "execute_result"
    }
   ],
   "source": [
    "np.shape(generator_1.sani_properties)"
   ]
  },
  {
   "cell_type": "code",
   "execution_count": 9,
   "metadata": {},
   "outputs": [
    {
     "data": {
      "text/plain": [
       "5280"
      ]
     },
     "execution_count": 9,
     "metadata": {},
     "output_type": "execute_result"
    }
   ],
   "source": [
    "new_array = np.resize(generator_1.sani_properties, (6,880))\n",
    "np.size(new_array)"
   ]
  },
  {
   "cell_type": "code",
   "execution_count": null,
   "metadata": {},
   "outputs": [],
   "source": [
    "data = np.concatenate([np.asarray(binmols).T, generator_1.sani_properties], axis=0)\n",
    "dataframe = pd.DataFrame(data, columns=[\"binmol\"]+generator_1.target_names, copy=True)\n",
    "filtered_data = dataframe.loc[[eval(i)==1 for i in dataframe[\"sub_similarity\"]]]\n",
    "print(filtered_data.head(5))\n",
    "#保存文件\n",
    "with h5py.File(\"datasets/GENERATED_MOLS_1.h5\", \"w\") as f:\n",
    "    f.create_dataset(\"mols\", data=np.asarray(filtered_data[\"binmol\"]))"
   ]
  },
  {
   "cell_type": "code",
   "execution_count": 2,
   "metadata": {},
   "outputs": [],
   "source": [
    "dataset_filename = r\"datasets/GENERATED_MOLS_1\"\n",
    "with h5py.File(dataset_filename, \"r\") as f:\n",
    "    binmols = np.asarray(f[\"mols\"])"
   ]
  },
  {
   "cell_type": "code",
   "execution_count": 18,
   "metadata": {},
   "outputs": [],
   "source": [
    "import pickle\n",
    "\n",
    "ncp_data = [pickle.load(open(\"ncp_{:}.pickle\".format(i), \"rb\")) for i in range(7,8)]"
   ]
  },
  {
   "cell_type": "code",
   "execution_count": 22,
   "metadata": {},
   "outputs": [
    {
     "name": "stdout",
     "output_type": "stream",
     "text": [
      "0.9999995600000001\n"
     ]
    },
    {
     "data": {
      "text/plain": [
       "array([4.50910198e-04, 1.40000062e-07, 1.69200074e-05, 3.30000145e-07,\n",
       "       8.50000374e-07, 9.32740410e-04, 9.70000427e-07, 1.30000057e-07,\n",
       "       1.73709076e-03, 2.00000088e-08, 2.00000088e-08, 0.00000000e+00,\n",
       "       2.08700092e-05, 4.00000176e-08, 1.70000075e-07, 9.64698854e-01,\n",
       "       8.80700388e-04, 1.08550048e-04, 8.57631377e-03, 0.00000000e+00,\n",
       "       1.90000084e-07, 6.30000277e-07, 1.97544087e-02, 5.00000220e-08,\n",
       "       2.81776124e-03, 5.00000220e-08, 6.00000264e-08, 5.80000255e-07,\n",
       "       1.00000044e-07, 2.00000088e-08, 5.00000220e-08, 3.80000167e-07,\n",
       "       1.00000044e-08, 0.00000000e+00, 9.00000396e-08])"
      ]
     },
     "metadata": {},
     "output_type": "display_data"
    },
    {
     "name": "stdout",
     "output_type": "stream",
     "text": [
      "dtype = float64 sum(pvals[:-1]) = 0.9999999099999602\n"
     ]
    },
    {
     "ename": "ValueError",
     "evalue": "sum(pvals[:-1]) > 1.0",
     "output_type": "error",
     "traceback": [
      "\u001b[1;31m---------------------------------------------------------------------------\u001b[0m",
      "\u001b[1;31mValueError\u001b[0m                                Traceback (most recent call last)",
      "\u001b[1;32m<ipython-input-22-6eba9f256a09>\u001b[0m in \u001b[0;36m<module>\u001b[1;34m\u001b[0m\n\u001b[0;32m     22\u001b[0m     sampleidc = np.asarray(\n\u001b[0;32m     23\u001b[0m                     [\n\u001b[1;32m---> 24\u001b[1;33m                         \u001b[0mnp\u001b[0m\u001b[1;33m.\u001b[0m\u001b[0mrandom\u001b[0m\u001b[1;33m.\u001b[0m\u001b[0mmultinomial\u001b[0m\u001b[1;33m(\u001b[0m\u001b[1;36m1\u001b[0m\u001b[1;33m,\u001b[0m \u001b[0mnextCharProb\u001b[0m\u001b[1;33m,\u001b[0m \u001b[1;36m1\u001b[0m\u001b[1;33m)\u001b[0m\u001b[1;33m.\u001b[0m\u001b[0margmax\u001b[0m\u001b[1;33m(\u001b[0m\u001b[1;33m)\u001b[0m \u001b[1;32mfor\u001b[0m \u001b[0mnextCharProb\u001b[0m \u001b[1;32min\u001b[0m \u001b[0mnextCharProbs\u001b[0m\u001b[1;33m\u001b[0m\u001b[1;33m\u001b[0m\u001b[0m\n\u001b[0m\u001b[0;32m     25\u001b[0m                     ])\n",
      "\u001b[1;32m<ipython-input-22-6eba9f256a09>\u001b[0m in \u001b[0;36m<listcomp>\u001b[1;34m(.0)\u001b[0m\n\u001b[0;32m     22\u001b[0m     sampleidc = np.asarray(\n\u001b[0;32m     23\u001b[0m                     [\n\u001b[1;32m---> 24\u001b[1;33m                         \u001b[0mnp\u001b[0m\u001b[1;33m.\u001b[0m\u001b[0mrandom\u001b[0m\u001b[1;33m.\u001b[0m\u001b[0mmultinomial\u001b[0m\u001b[1;33m(\u001b[0m\u001b[1;36m1\u001b[0m\u001b[1;33m,\u001b[0m \u001b[0mnextCharProb\u001b[0m\u001b[1;33m,\u001b[0m \u001b[1;36m1\u001b[0m\u001b[1;33m)\u001b[0m\u001b[1;33m.\u001b[0m\u001b[0margmax\u001b[0m\u001b[1;33m(\u001b[0m\u001b[1;33m)\u001b[0m \u001b[1;32mfor\u001b[0m \u001b[0mnextCharProb\u001b[0m \u001b[1;32min\u001b[0m \u001b[0mnextCharProbs\u001b[0m\u001b[1;33m\u001b[0m\u001b[1;33m\u001b[0m\u001b[0m\n\u001b[0m\u001b[0;32m     25\u001b[0m                     ])\n",
      "\u001b[1;32mmtrand.pyx\u001b[0m in \u001b[0;36mmtrand.RandomState.multinomial\u001b[1;34m()\u001b[0m\n",
      "\u001b[1;31mValueError\u001b[0m: sum(pvals[:-1]) > 1.0"
     ]
    }
   ],
   "source": [
    "import pandas as pd\n",
    "import numpy as np\n",
    "for i in range(1):\n",
    "    nextCharProbs = np.asarray(ncp_data[i].copy(), dtype='float64')\n",
    "    sum = np.sum(nextCharProbs[0])\n",
    "    print(sum)\n",
    "    nextCharProbs = np.multiply(nextCharProbs,[1/sum])\n",
    "\n",
    "    '''nextCharProbs = []\n",
    "    for j in ncp_data[i]:\n",
    "        nextCharProb = []\n",
    "        for k in j:\n",
    "            nextCharProb.append(int(k * 1e+6) * 1e-6)\n",
    "        nextCharProbs.append(nextCharProb)\n",
    "\n",
    "    nextCharProbs = np.asarray(nextCharProbs, dtype='float64')'''\n",
    "\n",
    "    #sums = [ncp[:-1].sum() for ncp in ncps]\n",
    "    nextCharProb = nextCharProbs[0]\n",
    "    display(nextCharProb)\n",
    "    print(\"dtype = {:}\".format(nextCharProb.dtype), \"sum(pvals[:-1]) = {:}\".format(nextCharProb[:-1].sum()))\n",
    "    sampleidc = np.asarray(\n",
    "                    [\n",
    "                        np.random.multinomial(1, nextCharProb, 1).argmax() for nextCharProb in nextCharProbs\n",
    "                    ])"
   ]
  },
  {
   "cell_type": "code",
   "execution_count": 24,
   "metadata": {},
   "outputs": [
    {
     "name": "stdout",
     "output_type": "stream",
     "text": [
      "21344 21338\n"
     ]
    }
   ],
   "source": [
    "import pickle \n",
    "with open(\"gnr_mol_1.pickle\",\"rb\") as f:\n",
    "    sani_mols = pickle.load(f)\n",
    "with open(\"gnr_mol_1_p.pickle\",\"rb\") as f:\n",
    "    sani_properties = pickle.load(f)\n",
    "\n",
    "print(len(sani_mols), len(sani_properties))"
   ]
  },
  {
   "cell_type": "code",
   "execution_count": 1,
   "metadata": {},
   "outputs": [
    {
     "data": {
      "text/plain": [
       "2879"
      ]
     },
     "execution_count": 1,
     "metadata": {},
     "output_type": "execute_result"
    }
   ],
   "source": [
    "#查看生成的数据\n",
    "\n",
    "import h5py\n",
    "import numpy as np\n",
    "\n",
    "#dataset_filename = r\"C:\\Users\\Leave\\OneDrive - hust.edu.cn\\大创\\pcko1-Deep-Drug-Coder-d6e7ef3\\datasets\\CHEMBL25_TRAIN_MOLS.h5\"\n",
    "dataset_filename = r\"datasets/model_0813_1.h5\"\n",
    "with h5py.File(dataset_filename, \"r\") as f:\n",
    "    binmols = np.asarray(f[\"mols\"])\n",
    "    #idxs = np.asarray(f[\"idxs\"])\n",
    "    #sims = np.asarray(f[\"sims\"])\n",
    "\n",
    "len(binmols)"
   ]
  },
  {
   "cell_type": "code",
   "execution_count": 6,
   "metadata": {},
   "outputs": [],
   "source": [
    "from rdkit import Chem, DataStructs\n",
    "from rdkit.Chem import rdFMCS, RDKFingerprint\n",
    "\n",
    "def get_sim(mol, sub_mol) -> float: \n",
    "    try:\n",
    "        res = rdFMCS.FindMCS([mol, sub_mol], timeout=1, bondCompare=rdFMCS.BondCompare.CompareAny, ringMatchesRingOnly=True, atomCompare=rdFMCS.AtomCompare.CompareAny)\n",
    "        if res.smartsString == \"\" or res.canceled:\n",
    "            return 0\n",
    "        mcs_mol = Chem.MolFromSmarts(res.smartsString)\n",
    "        display(mcs_mol)\n",
    "        Chem.SanitizeMol(mcs_mol)\n",
    "        mcs_mol_fp = RDKFingerprint(mcs_mol)\n",
    "        sub_mol_fp = RDKFingerprint(sub_mol)\n",
    "        sim = DataStructs.FingerprintSimilarity(sub_mol_fp, mcs_mol_fp, metric=DataStructs.DiceSimilarity)\n",
    "        return sim\n",
    "    except Exception as e:\n",
    "        #print(e)\n",
    "        return 0\n",
    "\n",
    "\n"
   ]
  },
  {
   "cell_type": "code",
   "execution_count": 1,
   "metadata": {},
   "outputs": [
    {
     "data": {
      "image/png": "[encoded data removed]",
      "text/plain": [
       "<rdkit.Chem.rdchem.Mol at 0x1aaeb812c60>"
      ]
     },
     "metadata": {},
     "output_type": "display_data"
    }
   ],
   "source": [
    "from rdkit import Chem\n",
    "from rdkit.Chem.Draw import IPythonConsole\n",
    "display(Chem.MolFromSmiles(\"O=C(OC)C1=CC(C2=O)CCCC2C1=O\"))"
   ]
  },
  {
   "cell_type": "code",
   "execution_count": 7,
   "metadata": {},
   "outputs": [
    {
     "data": {
      "image/png": "[encoded data removed]",
      "text/plain": [
       "<rdkit.Chem.rdchem.Mol at 0x1aaecf025d0>"
      ]
     },
     "metadata": {},
     "output_type": "display_data"
    }
   ],
   "source": [
    "mol1 = Chem.MolFromSmiles(\"COC(=O)C1=CC2(C)C(=O)C(C)(C1=O)C(=O)C2(C)C1(C)CCC2C1CCC1(C)CCC21C\")\n",
    "sub_mol = Chem.MolFromSmiles(\"O=C(OC)C1=CC(C2=O)CCCC2C1=O\")\n",
    "display(mol1)"
   ]
  },
  {
   "cell_type": "code",
   "execution_count": 8,
   "metadata": {},
   "outputs": [
    {
     "data": {
      "image/png": "[encoded data removed]",
      "text/plain": [
       "<rdkit.Chem.rdchem.Mol at 0x1aaecf02940>"
      ]
     },
     "metadata": {},
     "output_type": "display_data"
    },
    {
     "data": {
      "text/plain": [
       "0.9681274900398407"
      ]
     },
     "execution_count": 8,
     "metadata": {},
     "output_type": "execute_result"
    }
   ],
   "source": [
    "get_sim(mol1,sub_mol)"
   ]
  },
  {
   "cell_type": "code",
   "execution_count": 43,
   "metadata": {},
   "outputs": [
    {
     "name": "stdout",
     "output_type": "stream",
     "text": [
      "2048 2048\n"
     ]
    },
    {
     "data": {
      "text/plain": [
       "0.45770065075921906"
      ]
     },
     "execution_count": 43,
     "metadata": {},
     "output_type": "execute_result"
    }
   ],
   "source": [
    "from rdkit import Chem, DataStructs\n",
    "from rdkit.Chem import Descriptors, rdMolDescriptors, AllChem, QED, rdFMCS, RDKFingerprint\n",
    "import numpy as np\n",
    "\n",
    "def get_sim(mol, sub_mol) -> float: \n",
    "    #try:\n",
    "        res = rdFMCS.FindMCS([mol, sub_mol], timeout=1, bondCompare=rdFMCS.BondCompare.CompareAny, ringMatchesRingOnly=True, atomCompare=rdFMCS.AtomCompare.CompareAny)\n",
    "        if res.smartsString == \"\" or res.canceled:\n",
    "            return 0\n",
    "        mcs_mol = Chem.MolFromSmarts(res.smartsString)\n",
    "        Chem.SanitizeMol(mcs_mol)\n",
    "\n",
    "        mcs_mol_fp = RDKFingerprint(mcs_mol)\n",
    "        #mcs_mol_fp = AllChem.GetMorganFingerprintAsBitVect(mcs_mol, 2, nBits=2048)\n",
    "        sub_mol_fp = RDKFingerprint(sub_mol)\n",
    "        #sub_mol_fp = AllChem.GetMorganFingerprintAsBitVect(sub_mol, 2, nBits=2048)\n",
    "        print(len(mcs_mol_fp), len(sub_mol_fp))\n",
    "\n",
    "        sim = DataStructs.FingerprintSimilarity(sub_mol_fp, mcs_mol_fp)\n",
    "\n",
    "        return sim\n",
    "    #except Exception as e:\n",
    "        print(\"...Exception Occurred at {:1}:\".format(Chem.MolToSmiles(mol)))\n",
    "        print(e)\n",
    "        return 0\n",
    "\n",
    "get_sim(Chem.Mol(binmols[0]), Chem.Mol(binmols[1]))"
   ]
  },
  {
   "cell_type": "code",
   "execution_count": 1,
   "metadata": {},
   "outputs": [
    {
     "ename": "ModuleNotFoundError",
     "evalue": "No module named 'sascorer'",
     "output_type": "error",
     "traceback": [
      "\u001b[1;31m---------------------------------------------------------------------------\u001b[0m",
      "\u001b[1;31mModuleNotFoundError\u001b[0m                       Traceback (most recent call last)",
      "\u001b[1;32m<ipython-input-1-fa07f98bca21>\u001b[0m in \u001b[0;36m<module>\u001b[1;34m\u001b[0m\n\u001b[1;32m----> 1\u001b[1;33m \u001b[1;32mimport\u001b[0m \u001b[0msascorer\u001b[0m\u001b[1;33m\u001b[0m\u001b[1;33m\u001b[0m\u001b[0m\n\u001b[0m",
      "\u001b[1;31mModuleNotFoundError\u001b[0m: No module named 'sascorer'"
     ]
    }
   ],
   "source": [
    "import sascorer"
   ]
  }
 ],
 "metadata": {
  "kernelspec": {
   "display_name": "Python 3",
   "language": "python",
   "name": "python3"
  },
  "language_info": {
   "codemirror_mode": {
    "name": "ipython",
    "version": 3
   },
   "file_extension": ".py",
   "mimetype": "text/x-python",
   "name": "python",
   "nbconvert_exporter": "python",
   "pygments_lexer": "ipython3",
   "version": "3.6.7"
  },
  "vscode": {
   "interpreter": {
    "hash": "e78e90599c5fb8f980b5b4db672a9b193d0d2d67500e6742a058ef0e4774177f"
   }
  }
 },
 "nbformat": 4,
 "nbformat_minor": 2
}
